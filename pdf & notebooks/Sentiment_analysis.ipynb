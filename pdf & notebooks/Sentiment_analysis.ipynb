{
  "cells": [
    {
      "cell_type": "code",
      "execution_count": null,
      "id": "4c272a71-b52c-471f-8c42-521cc46e561d",
      "metadata": {
        "id": "4c272a71-b52c-471f-8c42-521cc46e561d"
      },
      "outputs": [],
      "source": [
        "import pandas as pd\n",
        "import numpy as np\n",
        "\n",
        "import os\n",
        "import sys\n",
        "\n",
        "# librosa is a Python library for analyzing audio and music. It can be used to extract the data from the audio files we will see it later.\n",
        "import librosa\n",
        "import librosa.display\n",
        "import seaborn as sns\n",
        "import matplotlib.pyplot as plt\n",
        "\n",
        "from sklearn.preprocessing import StandardScaler, OneHotEncoder\n",
        "from sklearn.metrics import confusion_matrix, classification_report\n",
        "from sklearn.model_selection import train_test_split\n",
        "\n",
        "# to play the audio files\n",
        "from IPython.display import Audio\n",
        "\n",
        "import keras\n",
        "from keras.callbacks import ReduceLROnPlateau\n",
        "from keras.models import Sequential\n",
        "from keras.layers import Dense, Conv1D, MaxPooling1D, Flatten, Dropout, BatchNormalization\n",
        "from keras.utils import to_categorical\n",
        "from keras.callbacks import ModelCheckpoint\n",
        "\n",
        "import warnings\n",
        "if not sys.warnoptions:\n",
        "    warnings.simplefilter(\"ignore\")\n",
        "warnings.filterwarnings(\"ignore\", category=DeprecationWarning)"
      ]
    },
    {
      "cell_type": "code",
      "source": [
        "from google.colab import drive\n",
        "drive.mount('/content/drive')"
      ],
      "metadata": {
        "colab": {
          "base_uri": "https://localhost:8080/"
        },
        "id": "b_12wpMJvK-a",
        "outputId": "106c500a-bde8-49b6-f0c1-ac2d00ad942c"
      },
      "id": "b_12wpMJvK-a",
      "execution_count": null,
      "outputs": [
        {
          "output_type": "stream",
          "name": "stdout",
          "text": [
            "Mounted at /content/drive\n"
          ]
        }
      ]
    },
    {
      "cell_type": "code",
      "execution_count": null,
      "id": "7a82891c-36bc-4558-a2aa-42c3603e65b5",
      "metadata": {
        "id": "7a82891c-36bc-4558-a2aa-42c3603e65b5",
        "colab": {
          "base_uri": "https://localhost:8080/"
        },
        "outputId": "26c49e96-6b1b-45ca-cbe2-8b511deb7287"
      },
      "outputs": [
        {
          "output_type": "stream",
          "name": "stdout",
          "text": [
            "Looking in indexes: https://pypi.org/simple, https://us-python.pkg.dev/colab-wheels/public/simple/\n",
            "Requirement already satisfied: antropy in /usr/local/lib/python3.10/dist-packages (0.1.5)\n",
            "Requirement already satisfied: numpy in /usr/local/lib/python3.10/dist-packages (from antropy) (1.22.4)\n",
            "Requirement already satisfied: scipy in /usr/local/lib/python3.10/dist-packages (from antropy) (1.10.1)\n",
            "Requirement already satisfied: scikit-learn in /usr/local/lib/python3.10/dist-packages (from antropy) (1.2.2)\n",
            "Requirement already satisfied: numba in /usr/local/lib/python3.10/dist-packages (from antropy) (0.56.4)\n",
            "Requirement already satisfied: stochastic in /usr/local/lib/python3.10/dist-packages (from antropy) (0.7.0)\n",
            "Requirement already satisfied: llvmlite<0.40,>=0.39.0dev0 in /usr/local/lib/python3.10/dist-packages (from numba->antropy) (0.39.1)\n",
            "Requirement already satisfied: setuptools in /usr/local/lib/python3.10/dist-packages (from numba->antropy) (67.7.2)\n",
            "Requirement already satisfied: joblib>=1.1.1 in /usr/local/lib/python3.10/dist-packages (from scikit-learn->antropy) (1.2.0)\n",
            "Requirement already satisfied: threadpoolctl>=2.0.0 in /usr/local/lib/python3.10/dist-packages (from scikit-learn->antropy) (3.1.0)\n"
          ]
        }
      ],
      "source": [
        "import IPython                    # Play audio files.\n",
        "import librosa                    # Music and audio analysis.\n",
        "import librosa.display            # Data visualization\n",
        "import matplotlib.pyplot as plt   # Data visualization.\n",
        "import numpy as np                # Data wrangling.\n",
        "import os                         # Manipulate operating system interfaces.\n",
        "import pandas as pd               # Data handling.\n",
        "import pickle                     # Python object serialization.\n",
        "import plotly.express as px       # Data visualization\n",
        "import plotly.graph_objects as go # Data visualization\n",
        "import seaborn as sns             # Data visualization.\n",
        "sns.set()\n",
        "import warnings                   # Ignore all warnings.\n",
        "warnings.filterwarnings('ignore')\n",
        "\n",
        "!pip3 install antropy\n",
        "from antropy import spectral_entropy             # Spectral entropy.               # Keras utilities.\n",
        "from keras.utils import to_categorical  # Convert a class vector (integers) to binary class matrix.\n",
        "from sklearn.preprocessing import LabelEncoder   # To encode target labels with value between 0 and n_classes-1.\n",
        "from sklearn.preprocessing import StandardScaler # To perform standardization by centering and scaling.\n",
        "from sklearn.metrics import accuracy_score, classification_report, confusion_matrix, f1_score, multilabel_confusion_matrix, precision_score, recall_score\n",
        "from sklearn.model_selection import train_test_split # To split data in training/validating/testing.\n",
        "from statistics import mode                          # Find the most likely predicted emotion.\n",
        "from tensorflow.keras import models                  # Group layers into an object with training and inference features.\n",
        "from tensorflow.keras import layers                  # Keras layers API.\n",
        "from tensorflow.keras.callbacks import EarlyStopping     # Stop training when a monitored metric has stopped improving.\n",
        "from tensorflow.keras.callbacks import ReduceLROnPlateau # Reduce learning rate when a metric has stopped improving.\n",
        "from tensorflow.keras.models import load_model           # To load the model.\n",
        "from tqdm.auto import tqdm                               # Progress bar."
      ]
    },
    {
      "cell_type": "code",
      "source": [
        "classes = ['Angry', 'Happy', 'Neutral', 'Sad','Surprise']"
      ],
      "metadata": {
        "id": "Q7rO-sn_b5T-"
      },
      "id": "Q7rO-sn_b5T-",
      "execution_count": null,
      "outputs": []
    },
    {
      "cell_type": "markdown",
      "id": "415ab7c6-33b3-4854-a934-87bbe2fcc73b",
      "metadata": {
        "id": "415ab7c6-33b3-4854-a934-87bbe2fcc73b"
      },
      "source": [
        "# Prediction Code"
      ]
    },
    {
      "cell_type": "code",
      "execution_count": null,
      "id": "39668eaf-14f1-4dd4-b437-afd282c01832",
      "metadata": {
        "id": "39668eaf-14f1-4dd4-b437-afd282c01832"
      },
      "outputs": [],
      "source": [
        "def predict_audio_class(audio_path):\n",
        "    # Preprocess the audio\n",
        "\n",
        "    # Make predictions\n",
        "\n",
        "    predicted_class = classes[np.argmax(audio_path)]\n",
        "\n",
        "    return predicted_class"
      ]
    },
    {
      "cell_type": "code",
      "execution_count": null,
      "id": "cf7f9ff3-ecba-45a9-b512-0fc3cb0ca6c6",
      "metadata": {
        "id": "cf7f9ff3-ecba-45a9-b512-0fc3cb0ca6c6"
      },
      "outputs": [],
      "source": [
        "Features = pd.read_csv('/content/drive/MyDrive/New_Features.csv')\n",
        "Features.dropna(axis=0, inplace=True)"
      ]
    },
    {
      "cell_type": "code",
      "execution_count": null,
      "id": "94c2d869-b521-49b0-8e3a-ac64d235931f",
      "metadata": {
        "colab": {
          "base_uri": "https://localhost:8080/",
          "height": 483
        },
        "id": "94c2d869-b521-49b0-8e3a-ac64d235931f",
        "outputId": "3ac2924f-94a2-47e8-ffe4-d2872aad1289"
      },
      "outputs": [
        {
          "output_type": "execute_result",
          "data": {
            "text/plain": [
              "                0           1          2          3         4          5  \\\n",
              "0     -486.931915  115.747589 -25.467674  21.137320  1.408364 -17.748659   \n",
              "1     -367.653098   51.456189  -7.431012   8.862830  3.618621  -9.529161   \n",
              "2     -515.659546  122.350647 -35.442883  21.665054  1.273824 -19.084095   \n",
              "3     -488.749237  117.429085 -26.239363  21.227299  1.340673 -17.568041   \n",
              "4     -493.752899  112.388176 -30.887045  21.112549 -2.789590 -20.413330   \n",
              "...           ...         ...        ...        ...       ...        ...   \n",
              "45264 -367.356323   59.965549   7.699082  10.579291  1.420210  -1.515012   \n",
              "45265 -357.012695   59.367874   9.643609  13.521070  3.559073  -1.259370   \n",
              "45266 -362.840332   59.882999   6.326694   8.220230  0.510714  -1.508667   \n",
              "45267 -379.478882   69.366486  10.753653  12.303340  1.525899  -1.020674   \n",
              "45268 -379.478882   69.366486  10.753653  12.303340  1.525899  -1.020674   \n",
              "\n",
              "              6          7          8          9  ...        49        50  \\\n",
              "0     -5.206296 -11.816609 -23.193365 -10.483434  ...  2.684004  1.193644   \n",
              "1     -3.643618  -8.304170 -15.196855  -7.301020  ...  1.663208  0.625806   \n",
              "2     -5.192123 -11.303168 -24.574680  -9.924925  ...  2.288218  1.062004   \n",
              "3     -5.151507 -11.720846 -23.201389 -10.467696  ...  2.690360  1.208868   \n",
              "4     -5.707886 -15.405882 -24.188908  -8.290537  ...  0.317027  0.240678   \n",
              "...         ...        ...        ...        ...  ...       ...       ...   \n",
              "45264 -3.538505   0.960856  -7.773746   1.731510  ...  1.201146  0.758636   \n",
              "45265 -2.001130   2.180553  -7.028760   1.883122  ...  0.804096  0.045094   \n",
              "45266 -1.741256   1.716168  -5.908564   1.563138  ...  1.874366  0.319025   \n",
              "45267 -3.550493   1.462840  -8.037142   2.317529  ...  0.326897 -0.408616   \n",
              "45268 -3.550493   1.462840  -8.037142   2.317529  ...  0.326897 -0.408616   \n",
              "\n",
              "             51        52        53        54        55        56        57  \\\n",
              "0      0.667046  1.682799  0.851160  2.059097  2.655259  2.365323  1.567272   \n",
              "1      0.628800  0.854082  0.712985  1.477681  1.795986  1.884532  0.543469   \n",
              "2      0.062848  0.819858  0.794714  2.296548  2.224104  1.458949  0.318544   \n",
              "3      0.646383  1.663345  0.810789  1.990698  2.632470  2.322598  1.532249   \n",
              "4      2.419023  2.192997  2.548210  2.053862  1.340124  0.460897 -0.074510   \n",
              "...         ...       ...       ...       ...       ...       ...       ...   \n",
              "45264  0.176617 -1.040748  0.108521 -0.471224  0.929526 -0.373240  2.078353   \n",
              "45265  0.100957 -1.272632 -0.153842 -0.566802  1.103742 -0.443941  1.989685   \n",
              "45266  0.481077  0.794047  1.280348  0.694584  0.268938  0.624827  0.903542   \n",
              "45267 -0.156843 -1.334962 -0.167477 -1.207461  0.589822 -0.744816  2.320862   \n",
              "45268 -0.156843 -1.334962 -0.167477 -1.207461  0.589822 -0.744816  2.320862   \n",
              "\n",
              "       Emotions  \n",
              "0           sad  \n",
              "1           sad  \n",
              "2           sad  \n",
              "3           sad  \n",
              "4           sad  \n",
              "...         ...  \n",
              "45264     happy  \n",
              "45265     happy  \n",
              "45266     happy  \n",
              "45267     happy  \n",
              "45268     happy  \n",
              "\n",
              "[45269 rows x 59 columns]"
            ],
            "text/html": [
              "\n",
              "  <div id=\"df-145dc821-02d4-4265-9e30-5345705d8516\">\n",
              "    <div class=\"colab-df-container\">\n",
              "      <div>\n",
              "<style scoped>\n",
              "    .dataframe tbody tr th:only-of-type {\n",
              "        vertical-align: middle;\n",
              "    }\n",
              "\n",
              "    .dataframe tbody tr th {\n",
              "        vertical-align: top;\n",
              "    }\n",
              "\n",
              "    .dataframe thead th {\n",
              "        text-align: right;\n",
              "    }\n",
              "</style>\n",
              "<table border=\"1\" class=\"dataframe\">\n",
              "  <thead>\n",
              "    <tr style=\"text-align: right;\">\n",
              "      <th></th>\n",
              "      <th>0</th>\n",
              "      <th>1</th>\n",
              "      <th>2</th>\n",
              "      <th>3</th>\n",
              "      <th>4</th>\n",
              "      <th>5</th>\n",
              "      <th>6</th>\n",
              "      <th>7</th>\n",
              "      <th>8</th>\n",
              "      <th>9</th>\n",
              "      <th>...</th>\n",
              "      <th>49</th>\n",
              "      <th>50</th>\n",
              "      <th>51</th>\n",
              "      <th>52</th>\n",
              "      <th>53</th>\n",
              "      <th>54</th>\n",
              "      <th>55</th>\n",
              "      <th>56</th>\n",
              "      <th>57</th>\n",
              "      <th>Emotions</th>\n",
              "    </tr>\n",
              "  </thead>\n",
              "  <tbody>\n",
              "    <tr>\n",
              "      <th>0</th>\n",
              "      <td>-486.931915</td>\n",
              "      <td>115.747589</td>\n",
              "      <td>-25.467674</td>\n",
              "      <td>21.137320</td>\n",
              "      <td>1.408364</td>\n",
              "      <td>-17.748659</td>\n",
              "      <td>-5.206296</td>\n",
              "      <td>-11.816609</td>\n",
              "      <td>-23.193365</td>\n",
              "      <td>-10.483434</td>\n",
              "      <td>...</td>\n",
              "      <td>2.684004</td>\n",
              "      <td>1.193644</td>\n",
              "      <td>0.667046</td>\n",
              "      <td>1.682799</td>\n",
              "      <td>0.851160</td>\n",
              "      <td>2.059097</td>\n",
              "      <td>2.655259</td>\n",
              "      <td>2.365323</td>\n",
              "      <td>1.567272</td>\n",
              "      <td>sad</td>\n",
              "    </tr>\n",
              "    <tr>\n",
              "      <th>1</th>\n",
              "      <td>-367.653098</td>\n",
              "      <td>51.456189</td>\n",
              "      <td>-7.431012</td>\n",
              "      <td>8.862830</td>\n",
              "      <td>3.618621</td>\n",
              "      <td>-9.529161</td>\n",
              "      <td>-3.643618</td>\n",
              "      <td>-8.304170</td>\n",
              "      <td>-15.196855</td>\n",
              "      <td>-7.301020</td>\n",
              "      <td>...</td>\n",
              "      <td>1.663208</td>\n",
              "      <td>0.625806</td>\n",
              "      <td>0.628800</td>\n",
              "      <td>0.854082</td>\n",
              "      <td>0.712985</td>\n",
              "      <td>1.477681</td>\n",
              "      <td>1.795986</td>\n",
              "      <td>1.884532</td>\n",
              "      <td>0.543469</td>\n",
              "      <td>sad</td>\n",
              "    </tr>\n",
              "    <tr>\n",
              "      <th>2</th>\n",
              "      <td>-515.659546</td>\n",
              "      <td>122.350647</td>\n",
              "      <td>-35.442883</td>\n",
              "      <td>21.665054</td>\n",
              "      <td>1.273824</td>\n",
              "      <td>-19.084095</td>\n",
              "      <td>-5.192123</td>\n",
              "      <td>-11.303168</td>\n",
              "      <td>-24.574680</td>\n",
              "      <td>-9.924925</td>\n",
              "      <td>...</td>\n",
              "      <td>2.288218</td>\n",
              "      <td>1.062004</td>\n",
              "      <td>0.062848</td>\n",
              "      <td>0.819858</td>\n",
              "      <td>0.794714</td>\n",
              "      <td>2.296548</td>\n",
              "      <td>2.224104</td>\n",
              "      <td>1.458949</td>\n",
              "      <td>0.318544</td>\n",
              "      <td>sad</td>\n",
              "    </tr>\n",
              "    <tr>\n",
              "      <th>3</th>\n",
              "      <td>-488.749237</td>\n",
              "      <td>117.429085</td>\n",
              "      <td>-26.239363</td>\n",
              "      <td>21.227299</td>\n",
              "      <td>1.340673</td>\n",
              "      <td>-17.568041</td>\n",
              "      <td>-5.151507</td>\n",
              "      <td>-11.720846</td>\n",
              "      <td>-23.201389</td>\n",
              "      <td>-10.467696</td>\n",
              "      <td>...</td>\n",
              "      <td>2.690360</td>\n",
              "      <td>1.208868</td>\n",
              "      <td>0.646383</td>\n",
              "      <td>1.663345</td>\n",
              "      <td>0.810789</td>\n",
              "      <td>1.990698</td>\n",
              "      <td>2.632470</td>\n",
              "      <td>2.322598</td>\n",
              "      <td>1.532249</td>\n",
              "      <td>sad</td>\n",
              "    </tr>\n",
              "    <tr>\n",
              "      <th>4</th>\n",
              "      <td>-493.752899</td>\n",
              "      <td>112.388176</td>\n",
              "      <td>-30.887045</td>\n",
              "      <td>21.112549</td>\n",
              "      <td>-2.789590</td>\n",
              "      <td>-20.413330</td>\n",
              "      <td>-5.707886</td>\n",
              "      <td>-15.405882</td>\n",
              "      <td>-24.188908</td>\n",
              "      <td>-8.290537</td>\n",
              "      <td>...</td>\n",
              "      <td>0.317027</td>\n",
              "      <td>0.240678</td>\n",
              "      <td>2.419023</td>\n",
              "      <td>2.192997</td>\n",
              "      <td>2.548210</td>\n",
              "      <td>2.053862</td>\n",
              "      <td>1.340124</td>\n",
              "      <td>0.460897</td>\n",
              "      <td>-0.074510</td>\n",
              "      <td>sad</td>\n",
              "    </tr>\n",
              "    <tr>\n",
              "      <th>...</th>\n",
              "      <td>...</td>\n",
              "      <td>...</td>\n",
              "      <td>...</td>\n",
              "      <td>...</td>\n",
              "      <td>...</td>\n",
              "      <td>...</td>\n",
              "      <td>...</td>\n",
              "      <td>...</td>\n",
              "      <td>...</td>\n",
              "      <td>...</td>\n",
              "      <td>...</td>\n",
              "      <td>...</td>\n",
              "      <td>...</td>\n",
              "      <td>...</td>\n",
              "      <td>...</td>\n",
              "      <td>...</td>\n",
              "      <td>...</td>\n",
              "      <td>...</td>\n",
              "      <td>...</td>\n",
              "      <td>...</td>\n",
              "      <td>...</td>\n",
              "    </tr>\n",
              "    <tr>\n",
              "      <th>45264</th>\n",
              "      <td>-367.356323</td>\n",
              "      <td>59.965549</td>\n",
              "      <td>7.699082</td>\n",
              "      <td>10.579291</td>\n",
              "      <td>1.420210</td>\n",
              "      <td>-1.515012</td>\n",
              "      <td>-3.538505</td>\n",
              "      <td>0.960856</td>\n",
              "      <td>-7.773746</td>\n",
              "      <td>1.731510</td>\n",
              "      <td>...</td>\n",
              "      <td>1.201146</td>\n",
              "      <td>0.758636</td>\n",
              "      <td>0.176617</td>\n",
              "      <td>-1.040748</td>\n",
              "      <td>0.108521</td>\n",
              "      <td>-0.471224</td>\n",
              "      <td>0.929526</td>\n",
              "      <td>-0.373240</td>\n",
              "      <td>2.078353</td>\n",
              "      <td>happy</td>\n",
              "    </tr>\n",
              "    <tr>\n",
              "      <th>45265</th>\n",
              "      <td>-357.012695</td>\n",
              "      <td>59.367874</td>\n",
              "      <td>9.643609</td>\n",
              "      <td>13.521070</td>\n",
              "      <td>3.559073</td>\n",
              "      <td>-1.259370</td>\n",
              "      <td>-2.001130</td>\n",
              "      <td>2.180553</td>\n",
              "      <td>-7.028760</td>\n",
              "      <td>1.883122</td>\n",
              "      <td>...</td>\n",
              "      <td>0.804096</td>\n",
              "      <td>0.045094</td>\n",
              "      <td>0.100957</td>\n",
              "      <td>-1.272632</td>\n",
              "      <td>-0.153842</td>\n",
              "      <td>-0.566802</td>\n",
              "      <td>1.103742</td>\n",
              "      <td>-0.443941</td>\n",
              "      <td>1.989685</td>\n",
              "      <td>happy</td>\n",
              "    </tr>\n",
              "    <tr>\n",
              "      <th>45266</th>\n",
              "      <td>-362.840332</td>\n",
              "      <td>59.882999</td>\n",
              "      <td>6.326694</td>\n",
              "      <td>8.220230</td>\n",
              "      <td>0.510714</td>\n",
              "      <td>-1.508667</td>\n",
              "      <td>-1.741256</td>\n",
              "      <td>1.716168</td>\n",
              "      <td>-5.908564</td>\n",
              "      <td>1.563138</td>\n",
              "      <td>...</td>\n",
              "      <td>1.874366</td>\n",
              "      <td>0.319025</td>\n",
              "      <td>0.481077</td>\n",
              "      <td>0.794047</td>\n",
              "      <td>1.280348</td>\n",
              "      <td>0.694584</td>\n",
              "      <td>0.268938</td>\n",
              "      <td>0.624827</td>\n",
              "      <td>0.903542</td>\n",
              "      <td>happy</td>\n",
              "    </tr>\n",
              "    <tr>\n",
              "      <th>45267</th>\n",
              "      <td>-379.478882</td>\n",
              "      <td>69.366486</td>\n",
              "      <td>10.753653</td>\n",
              "      <td>12.303340</td>\n",
              "      <td>1.525899</td>\n",
              "      <td>-1.020674</td>\n",
              "      <td>-3.550493</td>\n",
              "      <td>1.462840</td>\n",
              "      <td>-8.037142</td>\n",
              "      <td>2.317529</td>\n",
              "      <td>...</td>\n",
              "      <td>0.326897</td>\n",
              "      <td>-0.408616</td>\n",
              "      <td>-0.156843</td>\n",
              "      <td>-1.334962</td>\n",
              "      <td>-0.167477</td>\n",
              "      <td>-1.207461</td>\n",
              "      <td>0.589822</td>\n",
              "      <td>-0.744816</td>\n",
              "      <td>2.320862</td>\n",
              "      <td>happy</td>\n",
              "    </tr>\n",
              "    <tr>\n",
              "      <th>45268</th>\n",
              "      <td>-379.478882</td>\n",
              "      <td>69.366486</td>\n",
              "      <td>10.753653</td>\n",
              "      <td>12.303340</td>\n",
              "      <td>1.525899</td>\n",
              "      <td>-1.020674</td>\n",
              "      <td>-3.550493</td>\n",
              "      <td>1.462840</td>\n",
              "      <td>-8.037142</td>\n",
              "      <td>2.317529</td>\n",
              "      <td>...</td>\n",
              "      <td>0.326897</td>\n",
              "      <td>-0.408616</td>\n",
              "      <td>-0.156843</td>\n",
              "      <td>-1.334962</td>\n",
              "      <td>-0.167477</td>\n",
              "      <td>-1.207461</td>\n",
              "      <td>0.589822</td>\n",
              "      <td>-0.744816</td>\n",
              "      <td>2.320862</td>\n",
              "      <td>happy</td>\n",
              "    </tr>\n",
              "  </tbody>\n",
              "</table>\n",
              "<p>45269 rows × 59 columns</p>\n",
              "</div>\n",
              "      <button class=\"colab-df-convert\" onclick=\"convertToInteractive('df-145dc821-02d4-4265-9e30-5345705d8516')\"\n",
              "              title=\"Convert this dataframe to an interactive table.\"\n",
              "              style=\"display:none;\">\n",
              "        \n",
              "  <svg xmlns=\"http://www.w3.org/2000/svg\" height=\"24px\"viewBox=\"0 0 24 24\"\n",
              "       width=\"24px\">\n",
              "    <path d=\"M0 0h24v24H0V0z\" fill=\"none\"/>\n",
              "    <path d=\"M18.56 5.44l.94 2.06.94-2.06 2.06-.94-2.06-.94-.94-2.06-.94 2.06-2.06.94zm-11 1L8.5 8.5l.94-2.06 2.06-.94-2.06-.94L8.5 2.5l-.94 2.06-2.06.94zm10 10l.94 2.06.94-2.06 2.06-.94-2.06-.94-.94-2.06-.94 2.06-2.06.94z\"/><path d=\"M17.41 7.96l-1.37-1.37c-.4-.4-.92-.59-1.43-.59-.52 0-1.04.2-1.43.59L10.3 9.45l-7.72 7.72c-.78.78-.78 2.05 0 2.83L4 21.41c.39.39.9.59 1.41.59.51 0 1.02-.2 1.41-.59l7.78-7.78 2.81-2.81c.8-.78.8-2.07 0-2.86zM5.41 20L4 18.59l7.72-7.72 1.47 1.35L5.41 20z\"/>\n",
              "  </svg>\n",
              "      </button>\n",
              "      \n",
              "  <style>\n",
              "    .colab-df-container {\n",
              "      display:flex;\n",
              "      flex-wrap:wrap;\n",
              "      gap: 12px;\n",
              "    }\n",
              "\n",
              "    .colab-df-convert {\n",
              "      background-color: #E8F0FE;\n",
              "      border: none;\n",
              "      border-radius: 50%;\n",
              "      cursor: pointer;\n",
              "      display: none;\n",
              "      fill: #1967D2;\n",
              "      height: 32px;\n",
              "      padding: 0 0 0 0;\n",
              "      width: 32px;\n",
              "    }\n",
              "\n",
              "    .colab-df-convert:hover {\n",
              "      background-color: #E2EBFA;\n",
              "      box-shadow: 0px 1px 2px rgba(60, 64, 67, 0.3), 0px 1px 3px 1px rgba(60, 64, 67, 0.15);\n",
              "      fill: #174EA6;\n",
              "    }\n",
              "\n",
              "    [theme=dark] .colab-df-convert {\n",
              "      background-color: #3B4455;\n",
              "      fill: #D2E3FC;\n",
              "    }\n",
              "\n",
              "    [theme=dark] .colab-df-convert:hover {\n",
              "      background-color: #434B5C;\n",
              "      box-shadow: 0px 1px 3px 1px rgba(0, 0, 0, 0.15);\n",
              "      filter: drop-shadow(0px 1px 2px rgba(0, 0, 0, 0.3));\n",
              "      fill: #FFFFFF;\n",
              "    }\n",
              "  </style>\n",
              "\n",
              "      <script>\n",
              "        const buttonEl =\n",
              "          document.querySelector('#df-145dc821-02d4-4265-9e30-5345705d8516 button.colab-df-convert');\n",
              "        buttonEl.style.display =\n",
              "          google.colab.kernel.accessAllowed ? 'block' : 'none';\n",
              "\n",
              "        async function convertToInteractive(key) {\n",
              "          const element = document.querySelector('#df-145dc821-02d4-4265-9e30-5345705d8516');\n",
              "          const dataTable =\n",
              "            await google.colab.kernel.invokeFunction('convertToInteractive',\n",
              "                                                     [key], {});\n",
              "          if (!dataTable) return;\n",
              "\n",
              "          const docLinkHtml = 'Like what you see? Visit the ' +\n",
              "            '<a target=\"_blank\" href=https://colab.research.google.com/notebooks/data_table.ipynb>data table notebook</a>'\n",
              "            + ' to learn more about interactive tables.';\n",
              "          element.innerHTML = '';\n",
              "          dataTable['output_type'] = 'display_data';\n",
              "          await google.colab.output.renderOutput(dataTable, element);\n",
              "          const docLink = document.createElement('div');\n",
              "          docLink.innerHTML = docLinkHtml;\n",
              "          element.appendChild(docLink);\n",
              "        }\n",
              "      </script>\n",
              "    </div>\n",
              "  </div>\n",
              "  "
            ]
          },
          "metadata": {},
          "execution_count": 10
        }
      ],
      "source": [
        "Features"
      ]
    },
    {
      "cell_type": "code",
      "source": [
        "plt.figure(figsize=(22, 8))\n",
        "ax = sns.countplot(x=Features.Emotions)\n",
        "\n",
        "# Add total count labels to each bar\n",
        "for p in ax.patches:\n",
        "    height = p.get_height()\n",
        "    ax.text(p.get_x() + p.get_width() / 2, height, height, ha='center', va='bottom',size = 15)\n",
        "\n",
        "plt.ylabel('Frequency', size=15)\n",
        "plt.xlabel('Emotions', size=15)\n",
        "plt.title('Count of Emotions', size=20)\n",
        "sns.despine(top=True, right=True, left=False, bottom=False)\n",
        "plt.show()"
      ],
      "metadata": {
        "colab": {
          "base_uri": "https://localhost:8080/",
          "height": 377
        },
        "id": "geSibMthsGE0",
        "outputId": "cb67f664-4672-40ec-de19-f535d5ca0310"
      },
      "id": "geSibMthsGE0",
      "execution_count": null,
      "outputs": [
        {
          "output_type": "display_data",
          "data": {
            "text/plain": [
              "<Figure size 2200x800 with 1 Axes>"
            ],
            "image/png": "[encoded data removed]"
          },
          "metadata": {}
        }
      ]
    },
    {
      "cell_type": "code",
      "execution_count": null,
      "id": "b3e95ad4-b878-4cad-a72a-6d6c34efe14d",
      "metadata": {
        "id": "b3e95ad4-b878-4cad-a72a-6d6c34efe14d"
      },
      "outputs": [],
      "source": [
        "X = Features.iloc[: ,:-1].values\n",
        "Y = Features['Emotions'].values"
      ]
    },
    {
      "cell_type": "code",
      "execution_count": null,
      "id": "70c119ee-e08c-4a19-92a1-c03ba2e2af1c",
      "metadata": {
        "colab": {
          "base_uri": "https://localhost:8080/"
        },
        "id": "70c119ee-e08c-4a19-92a1-c03ba2e2af1c",
        "outputId": "6ff60e55-5aee-448c-9ed1-c4920052d53d"
      },
      "outputs": [
        {
          "output_type": "execute_result",
          "data": {
            "text/plain": [
              "array(['sad', 'sad', 'sad', ..., 'happy', 'happy', 'happy'], dtype=object)"
            ]
          },
          "metadata": {},
          "execution_count": 13
        }
      ],
      "source": [
        "Y"
      ]
    },
    {
      "cell_type": "code",
      "execution_count": null,
      "id": "2f7e3873-34f6-4592-a85d-7152d081f843",
      "metadata": {
        "id": "2f7e3873-34f6-4592-a85d-7152d081f843"
      },
      "outputs": [],
      "source": [
        "emotions_classes = Features['Emotions'].unique()"
      ]
    },
    {
      "cell_type": "code",
      "execution_count": null,
      "id": "7d97d770-8c90-45a8-bbed-b668436084a4",
      "metadata": {
        "id": "7d97d770-8c90-45a8-bbed-b668436084a4"
      },
      "outputs": [],
      "source": [
        "emotions_classes = pd.DataFrame(emotions_classes)"
      ]
    },
    {
      "cell_type": "code",
      "execution_count": null,
      "id": "48ff6dcb-03f8-441a-a614-d39a2258da73",
      "metadata": {
        "colab": {
          "base_uri": "https://localhost:8080/",
          "height": 204
        },
        "id": "48ff6dcb-03f8-441a-a614-d39a2258da73",
        "outputId": "2d06fb08-9087-4f38-8214-918cdd0b1dde"
      },
      "outputs": [
        {
          "output_type": "execute_result",
          "data": {
            "text/plain": [
              "          0\n",
              "0       sad\n",
              "1     happy\n",
              "2  surprise\n",
              "3     angry\n",
              "4   neutral"
            ],
            "text/html": [
              "\n",
              "  <div id=\"df-0a5cbc74-369c-4e32-88c0-58966cc5241c\">\n",
              "    <div class=\"colab-df-container\">\n",
              "      <div>\n",
              "<style scoped>\n",
              "    .dataframe tbody tr th:only-of-type {\n",
              "        vertical-align: middle;\n",
              "    }\n",
              "\n",
              "    .dataframe tbody tr th {\n",
              "        vertical-align: top;\n",
              "    }\n",
              "\n",
              "    .dataframe thead th {\n",
              "        text-align: right;\n",
              "    }\n",
              "</style>\n",
              "<table border=\"1\" class=\"dataframe\">\n",
              "  <thead>\n",
              "    <tr style=\"text-align: right;\">\n",
              "      <th></th>\n",
              "      <th>0</th>\n",
              "    </tr>\n",
              "  </thead>\n",
              "  <tbody>\n",
              "    <tr>\n",
              "      <th>0</th>\n",
              "      <td>sad</td>\n",
              "    </tr>\n",
              "    <tr>\n",
              "      <th>1</th>\n",
              "      <td>happy</td>\n",
              "    </tr>\n",
              "    <tr>\n",
              "      <th>2</th>\n",
              "      <td>surprise</td>\n",
              "    </tr>\n",
              "    <tr>\n",
              "      <th>3</th>\n",
              "      <td>angry</td>\n",
              "    </tr>\n",
              "    <tr>\n",
              "      <th>4</th>\n",
              "      <td>neutral</td>\n",
              "    </tr>\n",
              "  </tbody>\n",
              "</table>\n",
              "</div>\n",
              "      <button class=\"colab-df-convert\" onclick=\"convertToInteractive('df-0a5cbc74-369c-4e32-88c0-58966cc5241c')\"\n",
              "              title=\"Convert this dataframe to an interactive table.\"\n",
              "              style=\"display:none;\">\n",
              "        \n",
              "  <svg xmlns=\"http://www.w3.org/2000/svg\" height=\"24px\"viewBox=\"0 0 24 24\"\n",
              "       width=\"24px\">\n",
              "    <path d=\"M0 0h24v24H0V0z\" fill=\"none\"/>\n",
              "    <path d=\"M18.56 5.44l.94 2.06.94-2.06 2.06-.94-2.06-.94-.94-2.06-.94 2.06-2.06.94zm-11 1L8.5 8.5l.94-2.06 2.06-.94-2.06-.94L8.5 2.5l-.94 2.06-2.06.94zm10 10l.94 2.06.94-2.06 2.06-.94-2.06-.94-.94-2.06-.94 2.06-2.06.94z\"/><path d=\"M17.41 7.96l-1.37-1.37c-.4-.4-.92-.59-1.43-.59-.52 0-1.04.2-1.43.59L10.3 9.45l-7.72 7.72c-.78.78-.78 2.05 0 2.83L4 21.41c.39.39.9.59 1.41.59.51 0 1.02-.2 1.41-.59l7.78-7.78 2.81-2.81c.8-.78.8-2.07 0-2.86zM5.41 20L4 18.59l7.72-7.72 1.47 1.35L5.41 20z\"/>\n",
              "  </svg>\n",
              "      </button>\n",
              "      \n",
              "  <style>\n",
              "    .colab-df-container {\n",
              "      display:flex;\n",
              "      flex-wrap:wrap;\n",
              "      gap: 12px;\n",
              "    }\n",
              "\n",
              "    .colab-df-convert {\n",
              "      background-color: #E8F0FE;\n",
              "      border: none;\n",
              "      border-radius: 50%;\n",
              "      cursor: pointer;\n",
              "      display: none;\n",
              "      fill: #1967D2;\n",
              "      height: 32px;\n",
              "      padding: 0 0 0 0;\n",
              "      width: 32px;\n",
              "    }\n",
              "\n",
              "    .colab-df-convert:hover {\n",
              "      background-color: #E2EBFA;\n",
              "      box-shadow: 0px 1px 2px rgba(60, 64, 67, 0.3), 0px 1px 3px 1px rgba(60, 64, 67, 0.15);\n",
              "      fill: #174EA6;\n",
              "    }\n",
              "\n",
              "    [theme=dark] .colab-df-convert {\n",
              "      background-color: #3B4455;\n",
              "      fill: #D2E3FC;\n",
              "    }\n",
              "\n",
              "    [theme=dark] .colab-df-convert:hover {\n",
              "      background-color: #434B5C;\n",
              "      box-shadow: 0px 1px 3px 1px rgba(0, 0, 0, 0.15);\n",
              "      filter: drop-shadow(0px 1px 2px rgba(0, 0, 0, 0.3));\n",
              "      fill: #FFFFFF;\n",
              "    }\n",
              "  </style>\n",
              "\n",
              "      <script>\n",
              "        const buttonEl =\n",
              "          document.querySelector('#df-0a5cbc74-369c-4e32-88c0-58966cc5241c button.colab-df-convert');\n",
              "        buttonEl.style.display =\n",
              "          google.colab.kernel.accessAllowed ? 'block' : 'none';\n",
              "\n",
              "        async function convertToInteractive(key) {\n",
              "          const element = document.querySelector('#df-0a5cbc74-369c-4e32-88c0-58966cc5241c');\n",
              "          const dataTable =\n",
              "            await google.colab.kernel.invokeFunction('convertToInteractive',\n",
              "                                                     [key], {});\n",
              "          if (!dataTable) return;\n",
              "\n",
              "          const docLinkHtml = 'Like what you see? Visit the ' +\n",
              "            '<a target=\"_blank\" href=https://colab.research.google.com/notebooks/data_table.ipynb>data table notebook</a>'\n",
              "            + ' to learn more about interactive tables.';\n",
              "          element.innerHTML = '';\n",
              "          dataTable['output_type'] = 'display_data';\n",
              "          await google.colab.output.renderOutput(dataTable, element);\n",
              "          const docLink = document.createElement('div');\n",
              "          docLink.innerHTML = docLinkHtml;\n",
              "          element.appendChild(docLink);\n",
              "        }\n",
              "      </script>\n",
              "    </div>\n",
              "  </div>\n",
              "  "
            ]
          },
          "metadata": {},
          "execution_count": 16
        }
      ],
      "source": [
        "emotions_classes"
      ]
    },
    {
      "cell_type": "code",
      "execution_count": null,
      "id": "0bfab342-d60e-4b59-a919-473e6a1f5b47",
      "metadata": {
        "id": "0bfab342-d60e-4b59-a919-473e6a1f5b47"
      },
      "outputs": [],
      "source": [
        "import matplotlib.pyplot as plt"
      ]
    },
    {
      "cell_type": "code",
      "execution_count": null,
      "id": "e9794dc1-a12c-46f2-857e-30f7ccd4cdde",
      "metadata": {
        "id": "e9794dc1-a12c-46f2-857e-30f7ccd4cdde"
      },
      "outputs": [],
      "source": [
        "yy2=pd.get_dummies(Y)"
      ]
    },
    {
      "cell_type": "code",
      "execution_count": null,
      "id": "10809695-8f47-4068-8491-7a4c5e4d3399",
      "metadata": {
        "colab": {
          "base_uri": "https://localhost:8080/",
          "height": 419
        },
        "id": "10809695-8f47-4068-8491-7a4c5e4d3399",
        "outputId": "fe6c65bf-0eae-4692-eee7-80d959967d7d"
      },
      "outputs": [
        {
          "output_type": "execute_result",
          "data": {
            "text/plain": [
              "       angry  happy  neutral  sad  surprise\n",
              "0          0      0        0    1         0\n",
              "1          0      0        0    1         0\n",
              "2          0      0        0    1         0\n",
              "3          0      0        0    1         0\n",
              "4          0      0        0    1         0\n",
              "...      ...    ...      ...  ...       ...\n",
              "45264      0      1        0    0         0\n",
              "45265      0      1        0    0         0\n",
              "45266      0      1        0    0         0\n",
              "45267      0      1        0    0         0\n",
              "45268      0      1        0    0         0\n",
              "\n",
              "[45269 rows x 5 columns]"
            ],
            "text/html": [
              "\n",
              "  <div id=\"df-313c1d4e-85c9-42f5-97a1-5782ae47f363\">\n",
              "    <div class=\"colab-df-container\">\n",
              "      <div>\n",
              "<style scoped>\n",
              "    .dataframe tbody tr th:only-of-type {\n",
              "        vertical-align: middle;\n",
              "    }\n",
              "\n",
              "    .dataframe tbody tr th {\n",
              "        vertical-align: top;\n",
              "    }\n",
              "\n",
              "    .dataframe thead th {\n",
              "        text-align: right;\n",
              "    }\n",
              "</style>\n",
              "<table border=\"1\" class=\"dataframe\">\n",
              "  <thead>\n",
              "    <tr style=\"text-align: right;\">\n",
              "      <th></th>\n",
              "      <th>angry</th>\n",
              "      <th>happy</th>\n",
              "      <th>neutral</th>\n",
              "      <th>sad</th>\n",
              "      <th>surprise</th>\n",
              "    </tr>\n",
              "  </thead>\n",
              "  <tbody>\n",
              "    <tr>\n",
              "      <th>0</th>\n",
              "      <td>0</td>\n",
              "      <td>0</td>\n",
              "      <td>0</td>\n",
              "      <td>1</td>\n",
              "      <td>0</td>\n",
              "    </tr>\n",
              "    <tr>\n",
              "      <th>1</th>\n",
              "      <td>0</td>\n",
              "      <td>0</td>\n",
              "      <td>0</td>\n",
              "      <td>1</td>\n",
              "      <td>0</td>\n",
              "    </tr>\n",
              "    <tr>\n",
              "      <th>2</th>\n",
              "      <td>0</td>\n",
              "      <td>0</td>\n",
              "      <td>0</td>\n",
              "      <td>1</td>\n",
              "      <td>0</td>\n",
              "    </tr>\n",
              "    <tr>\n",
              "      <th>3</th>\n",
              "      <td>0</td>\n",
              "      <td>0</td>\n",
              "      <td>0</td>\n",
              "      <td>1</td>\n",
              "      <td>0</td>\n",
              "    </tr>\n",
              "    <tr>\n",
              "      <th>4</th>\n",
              "      <td>0</td>\n",
              "      <td>0</td>\n",
              "      <td>0</td>\n",
              "      <td>1</td>\n",
              "      <td>0</td>\n",
              "    </tr>\n",
              "    <tr>\n",
              "      <th>...</th>\n",
              "      <td>...</td>\n",
              "      <td>...</td>\n",
              "      <td>...</td>\n",
              "      <td>...</td>\n",
              "      <td>...</td>\n",
              "    </tr>\n",
              "    <tr>\n",
              "      <th>45264</th>\n",
              "      <td>0</td>\n",
              "      <td>1</td>\n",
              "      <td>0</td>\n",
              "      <td>0</td>\n",
              "      <td>0</td>\n",
              "    </tr>\n",
              "    <tr>\n",
              "      <th>45265</th>\n",
              "      <td>0</td>\n",
              "      <td>1</td>\n",
              "      <td>0</td>\n",
              "      <td>0</td>\n",
              "      <td>0</td>\n",
              "    </tr>\n",
              "    <tr>\n",
              "      <th>45266</th>\n",
              "      <td>0</td>\n",
              "      <td>1</td>\n",
              "      <td>0</td>\n",
              "      <td>0</td>\n",
              "      <td>0</td>\n",
              "    </tr>\n",
              "    <tr>\n",
              "      <th>45267</th>\n",
              "      <td>0</td>\n",
              "      <td>1</td>\n",
              "      <td>0</td>\n",
              "      <td>0</td>\n",
              "      <td>0</td>\n",
              "    </tr>\n",
              "    <tr>\n",
              "      <th>45268</th>\n",
              "      <td>0</td>\n",
              "      <td>1</td>\n",
              "      <td>0</td>\n",
              "      <td>0</td>\n",
              "      <td>0</td>\n",
              "    </tr>\n",
              "  </tbody>\n",
              "</table>\n",
              "<p>45269 rows × 5 columns</p>\n",
              "</div>\n",
              "      <button class=\"colab-df-convert\" onclick=\"convertToInteractive('df-313c1d4e-85c9-42f5-97a1-5782ae47f363')\"\n",
              "              title=\"Convert this dataframe to an interactive table.\"\n",
              "              style=\"display:none;\">\n",
              "        \n",
              "  <svg xmlns=\"http://www.w3.org/2000/svg\" height=\"24px\"viewBox=\"0 0 24 24\"\n",
              "       width=\"24px\">\n",
              "    <path d=\"M0 0h24v24H0V0z\" fill=\"none\"/>\n",
              "    <path d=\"M18.56 5.44l.94 2.06.94-2.06 2.06-.94-2.06-.94-.94-2.06-.94 2.06-2.06.94zm-11 1L8.5 8.5l.94-2.06 2.06-.94-2.06-.94L8.5 2.5l-.94 2.06-2.06.94zm10 10l.94 2.06.94-2.06 2.06-.94-2.06-.94-.94-2.06-.94 2.06-2.06.94z\"/><path d=\"M17.41 7.96l-1.37-1.37c-.4-.4-.92-.59-1.43-.59-.52 0-1.04.2-1.43.59L10.3 9.45l-7.72 7.72c-.78.78-.78 2.05 0 2.83L4 21.41c.39.39.9.59 1.41.59.51 0 1.02-.2 1.41-.59l7.78-7.78 2.81-2.81c.8-.78.8-2.07 0-2.86zM5.41 20L4 18.59l7.72-7.72 1.47 1.35L5.41 20z\"/>\n",
              "  </svg>\n",
              "      </button>\n",
              "      \n",
              "  <style>\n",
              "    .colab-df-container {\n",
              "      display:flex;\n",
              "      flex-wrap:wrap;\n",
              "      gap: 12px;\n",
              "    }\n",
              "\n",
              "    .colab-df-convert {\n",
              "      background-color: #E8F0FE;\n",
              "      border: none;\n",
              "      border-radius: 50%;\n",
              "      cursor: pointer;\n",
              "      display: none;\n",
              "      fill: #1967D2;\n",
              "      height: 32px;\n",
              "      padding: 0 0 0 0;\n",
              "      width: 32px;\n",
              "    }\n",
              "\n",
              "    .colab-df-convert:hover {\n",
              "      background-color: #E2EBFA;\n",
              "      box-shadow: 0px 1px 2px rgba(60, 64, 67, 0.3), 0px 1px 3px 1px rgba(60, 64, 67, 0.15);\n",
              "      fill: #174EA6;\n",
              "    }\n",
              "\n",
              "    [theme=dark] .colab-df-convert {\n",
              "      background-color: #3B4455;\n",
              "      fill: #D2E3FC;\n",
              "    }\n",
              "\n",
              "    [theme=dark] .colab-df-convert:hover {\n",
              "      background-color: #434B5C;\n",
              "      box-shadow: 0px 1px 3px 1px rgba(0, 0, 0, 0.15);\n",
              "      filter: drop-shadow(0px 1px 2px rgba(0, 0, 0, 0.3));\n",
              "      fill: #FFFFFF;\n",
              "    }\n",
              "  </style>\n",
              "\n",
              "      <script>\n",
              "        const buttonEl =\n",
              "          document.querySelector('#df-313c1d4e-85c9-42f5-97a1-5782ae47f363 button.colab-df-convert');\n",
              "        buttonEl.style.display =\n",
              "          google.colab.kernel.accessAllowed ? 'block' : 'none';\n",
              "\n",
              "        async function convertToInteractive(key) {\n",
              "          const element = document.querySelector('#df-313c1d4e-85c9-42f5-97a1-5782ae47f363');\n",
              "          const dataTable =\n",
              "            await google.colab.kernel.invokeFunction('convertToInteractive',\n",
              "                                                     [key], {});\n",
              "          if (!dataTable) return;\n",
              "\n",
              "          const docLinkHtml = 'Like what you see? Visit the ' +\n",
              "            '<a target=\"_blank\" href=https://colab.research.google.com/notebooks/data_table.ipynb>data table notebook</a>'\n",
              "            + ' to learn more about interactive tables.';\n",
              "          element.innerHTML = '';\n",
              "          dataTable['output_type'] = 'display_data';\n",
              "          await google.colab.output.renderOutput(dataTable, element);\n",
              "          const docLink = document.createElement('div');\n",
              "          docLink.innerHTML = docLinkHtml;\n",
              "          element.appendChild(docLink);\n",
              "        }\n",
              "      </script>\n",
              "    </div>\n",
              "  </div>\n",
              "  "
            ]
          },
          "metadata": {},
          "execution_count": 19
        }
      ],
      "source": [
        "yy2"
      ]
    },
    {
      "cell_type": "code",
      "execution_count": null,
      "id": "7937c8c3-33b1-4549-8aa0-199d0213dcbb",
      "metadata": {
        "id": "7937c8c3-33b1-4549-8aa0-199d0213dcbb"
      },
      "outputs": [],
      "source": [
        "encoder = OneHotEncoder()\n",
        "Y_res = encoder.fit_transform(np.array(Y).reshape(-1,1)).toarray()"
      ]
    },
    {
      "cell_type": "code",
      "execution_count": null,
      "id": "e18e6ab4-ca0d-4e6c-a36f-4b6ed221b852",
      "metadata": {
        "id": "e18e6ab4-ca0d-4e6c-a36f-4b6ed221b852"
      },
      "outputs": [],
      "source": [
        "yy=pd.DataFrame(Y_res)"
      ]
    },
    {
      "cell_type": "code",
      "execution_count": null,
      "id": "9b0322dd-3f36-41d9-914c-15c1b452e1b3",
      "metadata": {
        "colab": {
          "base_uri": "https://localhost:8080/"
        },
        "id": "9b0322dd-3f36-41d9-914c-15c1b452e1b3",
        "outputId": "0e6ca0af-3b5a-4dc9-e323-342a358aad7d"
      },
      "outputs": [
        {
          "output_type": "execute_result",
          "data": {
            "text/plain": [
              "((36215, 58), (36215, 5), (9054, 58), (9054, 5))"
            ]
          },
          "metadata": {},
          "execution_count": 22
        }
      ],
      "source": [
        "x_train, x_test, y_train, y_test = train_test_split(X, Y_res,test_size = 0.2, random_state=42, shuffle=True)\n",
        "x_train.shape, y_train.shape, x_test.shape, y_test.shape"
      ]
    },
    {
      "cell_type": "code",
      "execution_count": null,
      "id": "edeb5fe6",
      "metadata": {
        "colab": {
          "base_uri": "https://localhost:8080/"
        },
        "id": "edeb5fe6",
        "outputId": "320fadbb-1a80-494c-8b36-7c53539e2646"
      },
      "outputs": [
        {
          "output_type": "execute_result",
          "data": {
            "text/plain": [
              "((36215, 58, 1), (36215, 5), (9054, 58, 1), (9054, 5))"
            ]
          },
          "metadata": {},
          "execution_count": 23
        }
      ],
      "source": [
        "x_train = np.expand_dims(x_train, axis=2)\n",
        "x_test = np.expand_dims(x_test, axis=2)\n",
        "x_train.shape, y_train.shape, x_test.shape, y_test.shape"
      ]
    },
    {
      "cell_type": "code",
      "execution_count": null,
      "id": "99961435-1ab1-4410-b8e6-ec9281800771",
      "metadata": {
        "colab": {
          "base_uri": "https://localhost:8080/",
          "height": 419
        },
        "id": "99961435-1ab1-4410-b8e6-ec9281800771",
        "outputId": "245d6766-8ed0-445a-8652-ec19148f30ad"
      },
      "outputs": [
        {
          "output_type": "execute_result",
          "data": {
            "text/plain": [
              "         0    1    2    3    4\n",
              "0      0.0  0.0  0.0  1.0  0.0\n",
              "1      0.0  0.0  0.0  1.0  0.0\n",
              "2      0.0  0.0  0.0  1.0  0.0\n",
              "3      0.0  0.0  0.0  1.0  0.0\n",
              "4      0.0  0.0  0.0  1.0  0.0\n",
              "...    ...  ...  ...  ...  ...\n",
              "45264  0.0  1.0  0.0  0.0  0.0\n",
              "45265  0.0  1.0  0.0  0.0  0.0\n",
              "45266  0.0  1.0  0.0  0.0  0.0\n",
              "45267  0.0  1.0  0.0  0.0  0.0\n",
              "45268  0.0  1.0  0.0  0.0  0.0\n",
              "\n",
              "[45269 rows x 5 columns]"
            ],
            "text/html": [
              "\n",
              "  <div id=\"df-a30e3f5e-58c7-4605-8d6b-804969e64e5c\">\n",
              "    <div class=\"colab-df-container\">\n",
              "      <div>\n",
              "<style scoped>\n",
              "    .dataframe tbody tr th:only-of-type {\n",
              "        vertical-align: middle;\n",
              "    }\n",
              "\n",
              "    .dataframe tbody tr th {\n",
              "        vertical-align: top;\n",
              "    }\n",
              "\n",
              "    .dataframe thead th {\n",
              "        text-align: right;\n",
              "    }\n",
              "</style>\n",
              "<table border=\"1\" class=\"dataframe\">\n",
              "  <thead>\n",
              "    <tr style=\"text-align: right;\">\n",
              "      <th></th>\n",
              "      <th>0</th>\n",
              "      <th>1</th>\n",
              "      <th>2</th>\n",
              "      <th>3</th>\n",
              "      <th>4</th>\n",
              "    </tr>\n",
              "  </thead>\n",
              "  <tbody>\n",
              "    <tr>\n",
              "      <th>0</th>\n",
              "      <td>0.0</td>\n",
              "      <td>0.0</td>\n",
              "      <td>0.0</td>\n",
              "      <td>1.0</td>\n",
              "      <td>0.0</td>\n",
              "    </tr>\n",
              "    <tr>\n",
              "      <th>1</th>\n",
              "      <td>0.0</td>\n",
              "      <td>0.0</td>\n",
              "      <td>0.0</td>\n",
              "      <td>1.0</td>\n",
              "      <td>0.0</td>\n",
              "    </tr>\n",
              "    <tr>\n",
              "      <th>2</th>\n",
              "      <td>0.0</td>\n",
              "      <td>0.0</td>\n",
              "      <td>0.0</td>\n",
              "      <td>1.0</td>\n",
              "      <td>0.0</td>\n",
              "    </tr>\n",
              "    <tr>\n",
              "      <th>3</th>\n",
              "      <td>0.0</td>\n",
              "      <td>0.0</td>\n",
              "      <td>0.0</td>\n",
              "      <td>1.0</td>\n",
              "      <td>0.0</td>\n",
              "    </tr>\n",
              "    <tr>\n",
              "      <th>4</th>\n",
              "      <td>0.0</td>\n",
              "      <td>0.0</td>\n",
              "      <td>0.0</td>\n",
              "      <td>1.0</td>\n",
              "      <td>0.0</td>\n",
              "    </tr>\n",
              "    <tr>\n",
              "      <th>...</th>\n",
              "      <td>...</td>\n",
              "      <td>...</td>\n",
              "      <td>...</td>\n",
              "      <td>...</td>\n",
              "      <td>...</td>\n",
              "    </tr>\n",
              "    <tr>\n",
              "      <th>45264</th>\n",
              "      <td>0.0</td>\n",
              "      <td>1.0</td>\n",
              "      <td>0.0</td>\n",
              "      <td>0.0</td>\n",
              "      <td>0.0</td>\n",
              "    </tr>\n",
              "    <tr>\n",
              "      <th>45265</th>\n",
              "      <td>0.0</td>\n",
              "      <td>1.0</td>\n",
              "      <td>0.0</td>\n",
              "      <td>0.0</td>\n",
              "      <td>0.0</td>\n",
              "    </tr>\n",
              "    <tr>\n",
              "      <th>45266</th>\n",
              "      <td>0.0</td>\n",
              "      <td>1.0</td>\n",
              "      <td>0.0</td>\n",
              "      <td>0.0</td>\n",
              "      <td>0.0</td>\n",
              "    </tr>\n",
              "    <tr>\n",
              "      <th>45267</th>\n",
              "      <td>0.0</td>\n",
              "      <td>1.0</td>\n",
              "      <td>0.0</td>\n",
              "      <td>0.0</td>\n",
              "      <td>0.0</td>\n",
              "    </tr>\n",
              "    <tr>\n",
              "      <th>45268</th>\n",
              "      <td>0.0</td>\n",
              "      <td>1.0</td>\n",
              "      <td>0.0</td>\n",
              "      <td>0.0</td>\n",
              "      <td>0.0</td>\n",
              "    </tr>\n",
              "  </tbody>\n",
              "</table>\n",
              "<p>45269 rows × 5 columns</p>\n",
              "</div>\n",
              "      <button class=\"colab-df-convert\" onclick=\"convertToInteractive('df-a30e3f5e-58c7-4605-8d6b-804969e64e5c')\"\n",
              "              title=\"Convert this dataframe to an interactive table.\"\n",
              "              style=\"display:none;\">\n",
              "        \n",
              "  <svg xmlns=\"http://www.w3.org/2000/svg\" height=\"24px\"viewBox=\"0 0 24 24\"\n",
              "       width=\"24px\">\n",
              "    <path d=\"M0 0h24v24H0V0z\" fill=\"none\"/>\n",
              "    <path d=\"M18.56 5.44l.94 2.06.94-2.06 2.06-.94-2.06-.94-.94-2.06-.94 2.06-2.06.94zm-11 1L8.5 8.5l.94-2.06 2.06-.94-2.06-.94L8.5 2.5l-.94 2.06-2.06.94zm10 10l.94 2.06.94-2.06 2.06-.94-2.06-.94-.94-2.06-.94 2.06-2.06.94z\"/><path d=\"M17.41 7.96l-1.37-1.37c-.4-.4-.92-.59-1.43-.59-.52 0-1.04.2-1.43.59L10.3 9.45l-7.72 7.72c-.78.78-.78 2.05 0 2.83L4 21.41c.39.39.9.59 1.41.59.51 0 1.02-.2 1.41-.59l7.78-7.78 2.81-2.81c.8-.78.8-2.07 0-2.86zM5.41 20L4 18.59l7.72-7.72 1.47 1.35L5.41 20z\"/>\n",
              "  </svg>\n",
              "      </button>\n",
              "      \n",
              "  <style>\n",
              "    .colab-df-container {\n",
              "      display:flex;\n",
              "      flex-wrap:wrap;\n",
              "      gap: 12px;\n",
              "    }\n",
              "\n",
              "    .colab-df-convert {\n",
              "      background-color: #E8F0FE;\n",
              "      border: none;\n",
              "      border-radius: 50%;\n",
              "      cursor: pointer;\n",
              "      display: none;\n",
              "      fill: #1967D2;\n",
              "      height: 32px;\n",
              "      padding: 0 0 0 0;\n",
              "      width: 32px;\n",
              "    }\n",
              "\n",
              "    .colab-df-convert:hover {\n",
              "      background-color: #E2EBFA;\n",
              "      box-shadow: 0px 1px 2px rgba(60, 64, 67, 0.3), 0px 1px 3px 1px rgba(60, 64, 67, 0.15);\n",
              "      fill: #174EA6;\n",
              "    }\n",
              "\n",
              "    [theme=dark] .colab-df-convert {\n",
              "      background-color: #3B4455;\n",
              "      fill: #D2E3FC;\n",
              "    }\n",
              "\n",
              "    [theme=dark] .colab-df-convert:hover {\n",
              "      background-color: #434B5C;\n",
              "      box-shadow: 0px 1px 3px 1px rgba(0, 0, 0, 0.15);\n",
              "      filter: drop-shadow(0px 1px 2px rgba(0, 0, 0, 0.3));\n",
              "      fill: #FFFFFF;\n",
              "    }\n",
              "  </style>\n",
              "\n",
              "      <script>\n",
              "        const buttonEl =\n",
              "          document.querySelector('#df-a30e3f5e-58c7-4605-8d6b-804969e64e5c button.colab-df-convert');\n",
              "        buttonEl.style.display =\n",
              "          google.colab.kernel.accessAllowed ? 'block' : 'none';\n",
              "\n",
              "        async function convertToInteractive(key) {\n",
              "          const element = document.querySelector('#df-a30e3f5e-58c7-4605-8d6b-804969e64e5c');\n",
              "          const dataTable =\n",
              "            await google.colab.kernel.invokeFunction('convertToInteractive',\n",
              "                                                     [key], {});\n",
              "          if (!dataTable) return;\n",
              "\n",
              "          const docLinkHtml = 'Like what you see? Visit the ' +\n",
              "            '<a target=\"_blank\" href=https://colab.research.google.com/notebooks/data_table.ipynb>data table notebook</a>'\n",
              "            + ' to learn more about interactive tables.';\n",
              "          element.innerHTML = '';\n",
              "          dataTable['output_type'] = 'display_data';\n",
              "          await google.colab.output.renderOutput(dataTable, element);\n",
              "          const docLink = document.createElement('div');\n",
              "          docLink.innerHTML = docLinkHtml;\n",
              "          element.appendChild(docLink);\n",
              "        }\n",
              "      </script>\n",
              "    </div>\n",
              "  </div>\n",
              "  "
            ]
          },
          "metadata": {},
          "execution_count": 34
        }
      ],
      "source": [
        "yy"
      ]
    },
    {
      "cell_type": "markdown",
      "id": "4b6e8b15-1996-4bba-8156-b4dc67618e4d",
      "metadata": {
        "id": "4b6e8b15-1996-4bba-8156-b4dc67618e4d"
      },
      "source": [
        "# Model - 1 (CNN)"
      ]
    },
    {
      "cell_type": "code",
      "execution_count": null,
      "id": "d830b595-40e4-40f3-b686-007ae4a43527",
      "metadata": {
        "id": "d830b595-40e4-40f3-b686-007ae4a43527"
      },
      "outputs": [],
      "source": [
        "import tensorflow as tf\n",
        "from tensorflow import keras\n",
        "from tensorflow.keras import layers\n",
        "\n",
        "from keras.callbacks import ReduceLROnPlateau, EarlyStopping\n",
        "from keras.models import Sequential\n",
        "from keras.layers import Dense, Conv1D, MaxPooling1D, Flatten, Dropout, BatchNormalization, LSTM, Bidirectional\n",
        "from keras.callbacks import ModelCheckpoint"
      ]
    },
    {
      "cell_type": "code",
      "execution_count": null,
      "id": "9632c27a-fa2e-462d-a6ae-7c50f36066ec",
      "metadata": {
        "colab": {
          "base_uri": "https://localhost:8080/"
        },
        "id": "9632c27a-fa2e-462d-a6ae-7c50f36066ec",
        "outputId": "647edcf1-7243-4e7f-d00b-b967b62a5e25"
      },
      "outputs": [
        {
          "output_type": "stream",
          "name": "stdout",
          "text": [
            "Model: \"sequential\"\n",
            "_________________________________________________________________\n",
            " Layer (type)                Output Shape              Param #   \n",
            "=================================================================\n",
            " conv1d (Conv1D)             (None, 58, 512)           3072      \n",
            "                                                                 \n",
            " batch_normalization (BatchN  (None, 58, 512)          2048      \n",
            " ormalization)                                                   \n",
            "                                                                 \n",
            " max_pooling1d (MaxPooling1D  (None, 29, 512)          0         \n",
            " )                                                               \n",
            "                                                                 \n",
            " conv1d_1 (Conv1D)           (None, 29, 512)           1311232   \n",
            "                                                                 \n",
            " batch_normalization_1 (Batc  (None, 29, 512)          2048      \n",
            " hNormalization)                                                 \n",
            "                                                                 \n",
            " max_pooling1d_1 (MaxPooling  (None, 15, 512)          0         \n",
            " 1D)                                                             \n",
            "                                                                 \n",
            " conv1d_2 (Conv1D)           (None, 15, 256)           655616    \n",
            "                                                                 \n",
            " batch_normalization_2 (Batc  (None, 15, 256)          1024      \n",
            " hNormalization)                                                 \n",
            "                                                                 \n",
            " max_pooling1d_2 (MaxPooling  (None, 8, 256)           0         \n",
            " 1D)                                                             \n",
            "                                                                 \n",
            " conv1d_3 (Conv1D)           (None, 8, 256)            196864    \n",
            "                                                                 \n",
            " batch_normalization_3 (Batc  (None, 8, 256)           1024      \n",
            " hNormalization)                                                 \n",
            "                                                                 \n",
            " max_pooling1d_3 (MaxPooling  (None, 4, 256)           0         \n",
            " 1D)                                                             \n",
            "                                                                 \n",
            " conv1d_4 (Conv1D)           (None, 4, 128)            98432     \n",
            "                                                                 \n",
            " batch_normalization_4 (Batc  (None, 4, 128)           512       \n",
            " hNormalization)                                                 \n",
            "                                                                 \n",
            " max_pooling1d_4 (MaxPooling  (None, 2, 128)           0         \n",
            " 1D)                                                             \n",
            "                                                                 \n",
            " flatten (Flatten)           (None, 256)               0         \n",
            "                                                                 \n",
            " dense (Dense)               (None, 512)               131584    \n",
            "                                                                 \n",
            " batch_normalization_5 (Batc  (None, 512)              2048      \n",
            " hNormalization)                                                 \n",
            "                                                                 \n",
            " dense_1 (Dense)             (None, 5)                 2565      \n",
            "                                                                 \n",
            "=================================================================\n",
            "Total params: 2,408,069\n",
            "Trainable params: 2,403,717\n",
            "Non-trainable params: 4,352\n",
            "_________________________________________________________________\n"
          ]
        }
      ],
      "source": [
        "model = Sequential()\n",
        "model.add(layers.Conv1D(512, kernel_size=5, strides=1,\n",
        "                        padding=\"same\", activation=\"relu\",\n",
        "                        input_shape=(x_train.shape[1], 1)))\n",
        "model.add(layers.BatchNormalization())\n",
        "model.add(layers.MaxPool1D(pool_size=5, strides=2, padding=\"same\"))\n",
        "\n",
        "model.add(layers.Conv1D(512, kernel_size=5, strides=1,\n",
        "                        padding=\"same\", activation=\"relu\"))\n",
        "model.add(layers.BatchNormalization())\n",
        "model.add(layers.MaxPool1D(pool_size=5, strides=2, padding=\"same\"))\n",
        "\n",
        "model.add(layers.Conv1D(256, kernel_size=5, strides=1,\n",
        "                        padding=\"same\", activation=\"relu\"))\n",
        "model.add(layers.BatchNormalization())\n",
        "model.add(layers.MaxPool1D(pool_size=5, strides=2, padding=\"same\"))\n",
        "\n",
        "model.add(layers.Conv1D(256, kernel_size=3, strides=1, padding='same', activation='relu'))\n",
        "model.add(layers.BatchNormalization())\n",
        "model.add(layers.MaxPooling1D(pool_size=5, strides = 2, padding = 'same'))\n",
        "\n",
        "model.add(layers.Conv1D(128, kernel_size=3, strides=1, padding='same', activation='relu'))\n",
        "model.add(layers.BatchNormalization())\n",
        "model.add(layers.MaxPooling1D(pool_size=3, strides = 2, padding = 'same'))\n",
        "\n",
        "model.add(layers.Flatten())\n",
        "model.add(layers.Dense(512, activation='relu'))\n",
        "model.add(layers.BatchNormalization())\n",
        "model.add(layers.Dense(5, activation=\"softmax\"))\n",
        "\n",
        "\n",
        "model.compile(optimizer = 'RMSprop' , loss = 'categorical_crossentropy' , metrics = ['accuracy'])\n",
        "\n",
        "model.summary()"
      ]
    },
    {
      "cell_type": "code",
      "execution_count": null,
      "id": "74dfe0a3-563c-43ac-bf84-859a8c3e6fa1",
      "metadata": {
        "colab": {
          "base_uri": "https://localhost:8080/"
        },
        "id": "74dfe0a3-563c-43ac-bf84-859a8c3e6fa1",
        "outputId": "ae93a01e-5a85-45b6-8459-e6d3df85657a"
      },
      "outputs": [
        {
          "output_type": "stream",
          "name": "stdout",
          "text": [
            "Epoch 1/70\n",
            "566/566 [==============================] - 39s 26ms/step - loss: 1.6899 - accuracy: 0.2393 - val_loss: 1.7842 - val_accuracy: 0.2158 - lr: 0.0010\n",
            "Epoch 2/70\n",
            "566/566 [==============================] - 9s 16ms/step - loss: 1.5708 - accuracy: 0.2665 - val_loss: 1.5942 - val_accuracy: 0.2761 - lr: 0.0010\n",
            "Epoch 3/70\n",
            "566/566 [==============================] - 9s 15ms/step - loss: 1.5266 - accuracy: 0.2950 - val_loss: 1.5131 - val_accuracy: 0.2990 - lr: 0.0010\n",
            "Epoch 4/70\n",
            "566/566 [==============================] - 9s 16ms/step - loss: 1.4786 - accuracy: 0.3221 - val_loss: 1.5533 - val_accuracy: 0.2989 - lr: 0.0010\n",
            "Epoch 5/70\n",
            "566/566 [==============================] - 9s 16ms/step - loss: 1.4355 - accuracy: 0.3511 - val_loss: 1.4346 - val_accuracy: 0.3486 - lr: 0.0010\n",
            "Epoch 6/70\n",
            "566/566 [==============================] - 9s 16ms/step - loss: 1.3738 - accuracy: 0.3877 - val_loss: 1.3891 - val_accuracy: 0.3772 - lr: 0.0010\n",
            "Epoch 7/70\n",
            "566/566 [==============================] - 9s 16ms/step - loss: 1.3020 - accuracy: 0.4373 - val_loss: 1.3290 - val_accuracy: 0.4249 - lr: 0.0010\n",
            "Epoch 8/70\n",
            "566/566 [==============================] - 9s 16ms/step - loss: 1.2216 - accuracy: 0.4899 - val_loss: 1.2623 - val_accuracy: 0.4634 - lr: 0.0010\n",
            "Epoch 9/70\n",
            "566/566 [==============================] - 10s 17ms/step - loss: 1.1170 - accuracy: 0.5460 - val_loss: 1.3258 - val_accuracy: 0.4789 - lr: 0.0010\n",
            "Epoch 10/70\n",
            "566/566 [==============================] - 11s 19ms/step - loss: 0.9992 - accuracy: 0.6041 - val_loss: 1.1286 - val_accuracy: 0.5417 - lr: 0.0010\n",
            "Epoch 11/70\n",
            "566/566 [==============================] - 9s 17ms/step - loss: 0.8753 - accuracy: 0.6584 - val_loss: 0.9447 - val_accuracy: 0.6318 - lr: 0.0010\n",
            "Epoch 12/70\n",
            "566/566 [==============================] - 9s 16ms/step - loss: 0.7622 - accuracy: 0.7119 - val_loss: 0.9600 - val_accuracy: 0.6384 - lr: 0.0010\n",
            "Epoch 13/70\n",
            "566/566 [==============================] - 9s 16ms/step - loss: 0.6585 - accuracy: 0.7509 - val_loss: 0.7746 - val_accuracy: 0.7080 - lr: 0.0010\n",
            "Epoch 14/70\n",
            "566/566 [==============================] - 9s 16ms/step - loss: 0.5675 - accuracy: 0.7875 - val_loss: 0.7648 - val_accuracy: 0.7270 - lr: 0.0010\n",
            "Epoch 15/70\n",
            "566/566 [==============================] - 9s 16ms/step - loss: 0.4950 - accuracy: 0.8168 - val_loss: 0.7479 - val_accuracy: 0.7374 - lr: 0.0010\n",
            "Epoch 16/70\n",
            "566/566 [==============================] - 10s 17ms/step - loss: 0.4338 - accuracy: 0.8415 - val_loss: 0.6915 - val_accuracy: 0.7623 - lr: 0.0010\n",
            "Epoch 17/70\n",
            "566/566 [==============================] - 9s 16ms/step - loss: 0.3906 - accuracy: 0.8610 - val_loss: 0.6510 - val_accuracy: 0.7732 - lr: 0.0010\n",
            "Epoch 18/70\n",
            "566/566 [==============================] - 10s 17ms/step - loss: 0.3469 - accuracy: 0.8752 - val_loss: 0.5830 - val_accuracy: 0.8096 - lr: 0.0010\n",
            "Epoch 19/70\n",
            "566/566 [==============================] - 9s 16ms/step - loss: 0.3133 - accuracy: 0.8873 - val_loss: 0.5709 - val_accuracy: 0.8232 - lr: 0.0010\n",
            "Epoch 20/70\n",
            "566/566 [==============================] - 10s 18ms/step - loss: 0.2736 - accuracy: 0.9010 - val_loss: 0.5849 - val_accuracy: 0.8159 - lr: 0.0010\n",
            "Epoch 21/70\n",
            "566/566 [==============================] - 10s 18ms/step - loss: 0.2541 - accuracy: 0.9087 - val_loss: 0.5519 - val_accuracy: 0.8283 - lr: 0.0010\n",
            "Epoch 22/70\n",
            "566/566 [==============================] - 9s 16ms/step - loss: 0.2349 - accuracy: 0.9177 - val_loss: 0.5717 - val_accuracy: 0.8283 - lr: 0.0010\n",
            "Epoch 23/70\n",
            "566/566 [==============================] - 10s 17ms/step - loss: 0.2127 - accuracy: 0.9249 - val_loss: 0.5372 - val_accuracy: 0.8447 - lr: 0.0010\n",
            "Epoch 24/70\n",
            "566/566 [==============================] - 10s 18ms/step - loss: 0.2012 - accuracy: 0.9294 - val_loss: 0.5068 - val_accuracy: 0.8470 - lr: 0.0010\n",
            "Epoch 25/70\n",
            "566/566 [==============================] - 9s 16ms/step - loss: 0.1888 - accuracy: 0.9334 - val_loss: 0.5591 - val_accuracy: 0.8411 - lr: 0.0010\n",
            "Epoch 26/70\n",
            "566/566 [==============================] - 10s 17ms/step - loss: 0.1788 - accuracy: 0.9369 - val_loss: 0.5279 - val_accuracy: 0.8530 - lr: 0.0010\n",
            "Epoch 27/70\n",
            "566/566 [==============================] - 9s 16ms/step - loss: 0.1684 - accuracy: 0.9406 - val_loss: 0.5047 - val_accuracy: 0.8576 - lr: 0.0010\n",
            "Epoch 28/70\n",
            "566/566 [==============================] - 10s 17ms/step - loss: 0.1593 - accuracy: 0.9446 - val_loss: 0.5585 - val_accuracy: 0.8484 - lr: 0.0010\n",
            "Epoch 29/70\n",
            "566/566 [==============================] - 9s 15ms/step - loss: 0.1471 - accuracy: 0.9492 - val_loss: 0.5413 - val_accuracy: 0.8543 - lr: 0.0010\n",
            "Epoch 30/70\n",
            "566/566 [==============================] - 9s 17ms/step - loss: 0.1399 - accuracy: 0.9511 - val_loss: 0.5171 - val_accuracy: 0.8629 - lr: 0.0010\n",
            "Epoch 31/70\n",
            "566/566 [==============================] - 10s 17ms/step - loss: 0.1332 - accuracy: 0.9534 - val_loss: 0.5488 - val_accuracy: 0.8580 - lr: 0.0010\n",
            "Epoch 32/70\n",
            "566/566 [==============================] - 9s 16ms/step - loss: 0.1274 - accuracy: 0.9558 - val_loss: 0.5508 - val_accuracy: 0.8540 - lr: 0.0010\n",
            "Epoch 33/70\n",
            "566/566 [==============================] - 9s 17ms/step - loss: 0.1199 - accuracy: 0.9584 - val_loss: 0.4763 - val_accuracy: 0.8763 - lr: 0.0010\n",
            "Epoch 34/70\n",
            "566/566 [==============================] - 9s 17ms/step - loss: 0.1160 - accuracy: 0.9610 - val_loss: 0.4757 - val_accuracy: 0.8766 - lr: 0.0010\n",
            "Epoch 35/70\n",
            "566/566 [==============================] - 9s 15ms/step - loss: 0.1111 - accuracy: 0.9616 - val_loss: 0.4836 - val_accuracy: 0.8803 - lr: 0.0010\n",
            "Epoch 36/70\n",
            "566/566 [==============================] - 10s 18ms/step - loss: 0.1071 - accuracy: 0.9624 - val_loss: 0.5727 - val_accuracy: 0.8656 - lr: 0.0010\n",
            "Epoch 37/70\n",
            "566/566 [==============================] - 10s 18ms/step - loss: 0.1030 - accuracy: 0.9636 - val_loss: 0.6021 - val_accuracy: 0.8611 - lr: 0.0010\n",
            "Epoch 38/70\n",
            "566/566 [==============================] - ETA: 0s - loss: 0.0966 - accuracy: 0.9667\n",
            "Epoch 38: ReduceLROnPlateau reducing learning rate to 0.0005000000237487257.\n",
            "566/566 [==============================] - 9s 17ms/step - loss: 0.0966 - accuracy: 0.9667 - val_loss: 0.5510 - val_accuracy: 0.8697 - lr: 0.0010\n",
            "Epoch 39/70\n",
            "566/566 [==============================] - 10s 17ms/step - loss: 0.0453 - accuracy: 0.9839 - val_loss: 0.4580 - val_accuracy: 0.8968 - lr: 5.0000e-04\n",
            "Epoch 40/70\n",
            "566/566 [==============================] - 10s 17ms/step - loss: 0.0332 - accuracy: 0.9881 - val_loss: 0.4831 - val_accuracy: 0.9009 - lr: 5.0000e-04\n",
            "Epoch 41/70\n",
            "566/566 [==============================] - 9s 17ms/step - loss: 0.0320 - accuracy: 0.9882 - val_loss: 0.4851 - val_accuracy: 0.8991 - lr: 5.0000e-04\n",
            "Epoch 42/70\n",
            "566/566 [==============================] - 9s 15ms/step - loss: 0.0303 - accuracy: 0.9893 - val_loss: 0.5062 - val_accuracy: 0.8976 - lr: 5.0000e-04\n",
            "Epoch 43/70\n",
            "565/566 [============================>.] - ETA: 0s - loss: 0.0273 - accuracy: 0.9903\n",
            "Epoch 43: ReduceLROnPlateau reducing learning rate to 0.0002500000118743628.\n",
            "566/566 [==============================] - 10s 18ms/step - loss: 0.0273 - accuracy: 0.9903 - val_loss: 0.5422 - val_accuracy: 0.8985 - lr: 5.0000e-04\n",
            "Epoch 44/70\n",
            "566/566 [==============================] - 10s 18ms/step - loss: 0.0173 - accuracy: 0.9934 - val_loss: 0.4860 - val_accuracy: 0.9037 - lr: 2.5000e-04\n",
            "Epoch 45/70\n",
            "566/566 [==============================] - 9s 15ms/step - loss: 0.0132 - accuracy: 0.9953 - val_loss: 0.4875 - val_accuracy: 0.9028 - lr: 2.5000e-04\n",
            "Epoch 46/70\n",
            "566/566 [==============================] - 10s 17ms/step - loss: 0.0121 - accuracy: 0.9952 - val_loss: 0.5000 - val_accuracy: 0.9065 - lr: 2.5000e-04\n",
            "Epoch 47/70\n",
            "566/566 [==============================] - 10s 18ms/step - loss: 0.0117 - accuracy: 0.9954 - val_loss: 0.5001 - val_accuracy: 0.9062 - lr: 2.5000e-04\n",
            "Epoch 48/70\n",
            "566/566 [==============================] - 9s 17ms/step - loss: 0.0110 - accuracy: 0.9957 - val_loss: 0.5226 - val_accuracy: 0.9060 - lr: 2.5000e-04\n",
            "Epoch 49/70\n",
            "564/566 [============================>.] - ETA: 0s - loss: 0.0099 - accuracy: 0.9958\n",
            "Epoch 49: ReduceLROnPlateau reducing learning rate to 0.0001250000059371814.\n",
            "566/566 [==============================] - 9s 16ms/step - loss: 0.0099 - accuracy: 0.9958 - val_loss: 0.5136 - val_accuracy: 0.9063 - lr: 2.5000e-04\n",
            "Epoch 50/70\n",
            "566/566 [==============================] - 9s 17ms/step - loss: 0.0087 - accuracy: 0.9963 - val_loss: 0.5060 - val_accuracy: 0.9069 - lr: 1.2500e-04\n",
            "Epoch 51/70\n",
            "566/566 [==============================] - 9s 16ms/step - loss: 0.0069 - accuracy: 0.9970 - val_loss: 0.5052 - val_accuracy: 0.9104 - lr: 1.2500e-04\n",
            "Epoch 52/70\n",
            "566/566 [==============================] - 9s 17ms/step - loss: 0.0068 - accuracy: 0.9970 - val_loss: 0.5217 - val_accuracy: 0.9085 - lr: 1.2500e-04\n",
            "Epoch 53/70\n",
            "566/566 [==============================] - 9s 17ms/step - loss: 0.0063 - accuracy: 0.9972 - val_loss: 0.5127 - val_accuracy: 0.9093 - lr: 1.2500e-04\n",
            "Epoch 54/70\n",
            "565/566 [============================>.] - ETA: 0s - loss: 0.0064 - accuracy: 0.9970\n",
            "Epoch 54: ReduceLROnPlateau reducing learning rate to 6.25000029685907e-05.\n",
            "566/566 [==============================] - 9s 16ms/step - loss: 0.0064 - accuracy: 0.9970 - val_loss: 0.5171 - val_accuracy: 0.9074 - lr: 1.2500e-04\n",
            "Epoch 55/70\n",
            "566/566 [==============================] - 9s 15ms/step - loss: 0.0059 - accuracy: 0.9972 - val_loss: 0.5204 - val_accuracy: 0.9078 - lr: 6.2500e-05\n",
            "Epoch 56/70\n",
            "566/566 [==============================] - 10s 18ms/step - loss: 0.0055 - accuracy: 0.9975 - val_loss: 0.5244 - val_accuracy: 0.9093 - lr: 6.2500e-05\n"
          ]
        }
      ],
      "source": [
        "rlrp = ReduceLROnPlateau(monitor='val_accuracy',\n",
        "                                            patience=3,\n",
        "                                            verbose=1,\n",
        "                                            factor=0.5,\n",
        "                                            min_lr=0.00001)\n",
        "earlystopping = EarlyStopping(monitor =\"val_accuracy\",\n",
        "                              mode = 'auto', patience = 5,\n",
        "                              restore_best_weights = True)\n",
        "\n",
        "history=model.fit(x_train, y_train, batch_size=64, epochs=70, validation_data=(x_test, y_test), callbacks=[rlrp,earlystopping])"
      ]
    },
    {
      "cell_type": "code",
      "execution_count": null,
      "id": "993fc5e2-48e3-467d-99b5-0f577f70790d",
      "metadata": {
        "colab": {
          "base_uri": "https://localhost:8080/"
        },
        "id": "993fc5e2-48e3-467d-99b5-0f577f70790d",
        "outputId": "e0a2609b-df9e-43c8-fdfa-49cb9db26b51"
      },
      "outputs": [
        {
          "output_type": "stream",
          "name": "stdout",
          "text": [
            "283/283 [==============================] - 26s 90ms/step\n"
          ]
        }
      ],
      "source": [
        "preds = model.predict(x_test)"
      ]
    },
    {
      "cell_type": "code",
      "execution_count": null,
      "id": "b925e539",
      "metadata": {
        "colab": {
          "base_uri": "https://localhost:8080/"
        },
        "id": "b925e539",
        "outputId": "63c48b93-f078-410e-f5a8-bf36652caf2b"
      },
      "outputs": [
        {
          "output_type": "execute_result",
          "data": {
            "text/plain": [
              "(9054, 5)"
            ]
          },
          "metadata": {},
          "execution_count": 31
        }
      ],
      "source": [
        "preds.shape"
      ]
    },
    {
      "cell_type": "code",
      "execution_count": null,
      "id": "29a01764",
      "metadata": {
        "colab": {
          "base_uri": "https://localhost:8080/"
        },
        "id": "29a01764",
        "outputId": "ae285ec7-d106-473f-889a-192cc70c2597"
      },
      "outputs": [
        {
          "output_type": "execute_result",
          "data": {
            "text/plain": [
              "array([[9.8562131e-13, 9.9999994e-01, 2.8186159e-10, 1.6682540e-08,\n",
              "        4.4153183e-09],\n",
              "       [1.6103312e-03, 5.9900002e-04, 3.9323657e-03, 9.9377388e-01,\n",
              "        8.4416526e-05],\n",
              "       [1.7406202e-07, 1.7350161e-06, 7.8732453e-05, 9.9991709e-01,\n",
              "        2.0981809e-06],\n",
              "       ...,\n",
              "       [1.5594756e-13, 3.7762593e-09, 9.9988866e-01, 1.1128828e-04,\n",
              "        2.3876820e-10],\n",
              "       [1.1879481e-05, 9.9968839e-01, 2.5241452e-04, 4.6952006e-05,\n",
              "        4.1180039e-07],\n",
              "       [2.2854918e-08, 9.9999952e-01, 1.2899741e-09, 4.3786216e-07,\n",
              "        5.0465114e-12]], dtype=float32)"
            ]
          },
          "metadata": {},
          "execution_count": 32
        }
      ],
      "source": [
        "preds"
      ]
    },
    {
      "cell_type": "code",
      "execution_count": null,
      "id": "5375b5ab",
      "metadata": {
        "colab": {
          "base_uri": "https://localhost:8080/"
        },
        "id": "5375b5ab",
        "outputId": "dcbc3724-4815-4ce6-d95e-d6406fa52c18"
      },
      "outputs": [
        {
          "output_type": "execute_result",
          "data": {
            "text/plain": [
              "array([0.99999994, 1.        , 0.9999998 , 1.        , 0.99999994,\n",
              "       0.9999999 , 0.99999994, 0.9999999 , 0.99999994, 0.99999994],\n",
              "      dtype=float32)"
            ]
          },
          "metadata": {},
          "execution_count": 33
        }
      ],
      "source": [
        "np.sum(preds[:10],axis=1)"
      ]
    },
    {
      "cell_type": "code",
      "execution_count": null,
      "id": "39641089",
      "metadata": {
        "id": "39641089"
      },
      "outputs": [],
      "source": [
        "y_pred = encoder.inverse_transform(preds)\n",
        "y_tmp = encoder.inverse_transform(y_test)"
      ]
    },
    {
      "cell_type": "code",
      "execution_count": null,
      "id": "32efe8d7-1f2d-4cd6-9479-1a2c49eb6584",
      "metadata": {
        "colab": {
          "base_uri": "https://localhost:8080/"
        },
        "id": "32efe8d7-1f2d-4cd6-9479-1a2c49eb6584",
        "outputId": "a1351b1c-eab2-48c8-cc92-cc0a96d2a01e"
      },
      "outputs": [
        {
          "output_type": "execute_result",
          "data": {
            "text/plain": [
              "(9054, 1)"
            ]
          },
          "metadata": {},
          "execution_count": 35
        }
      ],
      "source": [
        "y_pred.shape"
      ]
    },
    {
      "cell_type": "code",
      "execution_count": null,
      "id": "864234ef-9b74-43b8-a172-f5fd576984b7",
      "metadata": {
        "colab": {
          "base_uri": "https://localhost:8080/"
        },
        "id": "864234ef-9b74-43b8-a172-f5fd576984b7",
        "outputId": "ee3f444b-9f8e-42b5-bbbe-3f83c0bd6616"
      },
      "outputs": [
        {
          "output_type": "stream",
          "name": "stdout",
          "text": [
            "Accuracy Score: 90.269494%\n",
            "Precision Score: 90.269494%\n",
            "Recall Score: 90.269494%\n",
            "F1 Score: 90.269494%\n"
          ]
        }
      ],
      "source": [
        "# Calculate our accuracy score.\n",
        "accuracy = accuracy_score(y_tmp, y_pred)\n",
        "\n",
        "# Calculate our precision score.\n",
        "precision = precision_score(y_tmp, y_pred, average = 'micro')\n",
        "\n",
        "# Calculate our recall score.\n",
        "recall = recall_score(y_tmp, y_pred, average = 'micro')\n",
        "\n",
        "# Calculate our f1-score.\n",
        "f1 = f1_score(y_tmp, y_pred, average = 'micro')\n",
        "\n",
        "# Print each of our scores to inspect performance.\n",
        "print('Accuracy Score: %f' % (accuracy * 100), '%', sep = '')\n",
        "print('Precision Score: %f' % (precision * 100), '%', sep = '')\n",
        "print('Recall Score: %f' % (recall * 100), '%', sep = '')\n",
        "print('F1 Score: %f' % (f1 * 100), '%', sep = '')"
      ]
    },
    {
      "cell_type": "code",
      "execution_count": null,
      "id": "d5039986",
      "metadata": {
        "colab": {
          "base_uri": "https://localhost:8080/"
        },
        "id": "d5039986",
        "outputId": "ebb825c5-a8b8-470d-8d42-eeb089e506c2"
      },
      "outputs": [
        {
          "output_type": "execute_result",
          "data": {
            "text/plain": [
              "array([['happy'],\n",
              "       ['neutral'],\n",
              "       ['sad'],\n",
              "       ['angry'],\n",
              "       ['surprise'],\n",
              "       ['sad'],\n",
              "       ['neutral'],\n",
              "       ['sad'],\n",
              "       ['happy'],\n",
              "       ['happy'],\n",
              "       ['happy'],\n",
              "       ['neutral'],\n",
              "       ['surprise'],\n",
              "       ['surprise'],\n",
              "       ['angry'],\n",
              "       ['surprise'],\n",
              "       ['angry'],\n",
              "       ['happy'],\n",
              "       ['happy'],\n",
              "       ['happy'],\n",
              "       ['surprise'],\n",
              "       ['angry'],\n",
              "       ['surprise'],\n",
              "       ['sad'],\n",
              "       ['neutral'],\n",
              "       ['angry'],\n",
              "       ['sad'],\n",
              "       ['neutral'],\n",
              "       ['neutral'],\n",
              "       ['angry'],\n",
              "       ['sad'],\n",
              "       ['neutral'],\n",
              "       ['sad'],\n",
              "       ['happy'],\n",
              "       ['happy'],\n",
              "       ['sad'],\n",
              "       ['surprise'],\n",
              "       ['happy'],\n",
              "       ['surprise'],\n",
              "       ['neutral'],\n",
              "       ['sad'],\n",
              "       ['surprise'],\n",
              "       ['happy'],\n",
              "       ['happy'],\n",
              "       ['neutral'],\n",
              "       ['sad'],\n",
              "       ['angry'],\n",
              "       ['surprise'],\n",
              "       ['sad'],\n",
              "       ['angry'],\n",
              "       ['happy'],\n",
              "       ['angry'],\n",
              "       ['surprise'],\n",
              "       ['happy'],\n",
              "       ['surprise'],\n",
              "       ['neutral'],\n",
              "       ['sad'],\n",
              "       ['angry'],\n",
              "       ['sad'],\n",
              "       ['surprise'],\n",
              "       ['sad'],\n",
              "       ['surprise'],\n",
              "       ['happy'],\n",
              "       ['surprise'],\n",
              "       ['happy'],\n",
              "       ['neutral'],\n",
              "       ['neutral'],\n",
              "       ['sad'],\n",
              "       ['neutral'],\n",
              "       ['neutral'],\n",
              "       ['neutral'],\n",
              "       ['sad'],\n",
              "       ['surprise'],\n",
              "       ['happy'],\n",
              "       ['happy'],\n",
              "       ['angry'],\n",
              "       ['surprise'],\n",
              "       ['sad'],\n",
              "       ['sad'],\n",
              "       ['sad'],\n",
              "       ['sad'],\n",
              "       ['sad'],\n",
              "       ['surprise'],\n",
              "       ['angry'],\n",
              "       ['happy'],\n",
              "       ['sad'],\n",
              "       ['sad'],\n",
              "       ['angry'],\n",
              "       ['surprise'],\n",
              "       ['neutral'],\n",
              "       ['neutral'],\n",
              "       ['neutral'],\n",
              "       ['happy'],\n",
              "       ['angry'],\n",
              "       ['sad'],\n",
              "       ['happy'],\n",
              "       ['surprise'],\n",
              "       ['neutral'],\n",
              "       ['sad'],\n",
              "       ['happy']], dtype=object)"
            ]
          },
          "metadata": {},
          "execution_count": 46
        }
      ],
      "source": [
        "y_pred[:100]"
      ]
    },
    {
      "cell_type": "code",
      "source": [
        "y_pred[0]"
      ],
      "metadata": {
        "colab": {
          "base_uri": "https://localhost:8080/"
        },
        "id": "xO0GtYJl0GKA",
        "outputId": "7a8b6a47-e1f3-4be8-d331-b9a1c44ee5df"
      },
      "id": "xO0GtYJl0GKA",
      "execution_count": null,
      "outputs": [
        {
          "output_type": "execute_result",
          "data": {
            "text/plain": [
              "array(['happy'], dtype=object)"
            ]
          },
          "metadata": {},
          "execution_count": 47
        }
      ]
    },
    {
      "cell_type": "code",
      "execution_count": null,
      "id": "ee6d5bb1",
      "metadata": {
        "colab": {
          "base_uri": "https://localhost:8080/",
          "height": 419
        },
        "id": "ee6d5bb1",
        "outputId": "29ebf63d-7dde-41ac-dd90-ae776d23f1ee"
      },
      "outputs": [
        {
          "output_type": "execute_result",
          "data": {
            "text/plain": [
              "     PredictedLabels ActualLabels\n",
              "0              happy        happy\n",
              "1                sad        happy\n",
              "2                sad          sad\n",
              "3              angry        angry\n",
              "4           surprise     surprise\n",
              "...              ...          ...\n",
              "9049         neutral      neutral\n",
              "9050        surprise     surprise\n",
              "9051         neutral      neutral\n",
              "9052           happy        happy\n",
              "9053           happy        happy\n",
              "\n",
              "[9054 rows x 2 columns]"
            ],
            "text/html": [
              "\n",
              "  <div id=\"df-96ab20d9-46ed-437e-b3cd-87361f197ae8\">\n",
              "    <div class=\"colab-df-container\">\n",
              "      <div>\n",
              "<style scoped>\n",
              "    .dataframe tbody tr th:only-of-type {\n",
              "        vertical-align: middle;\n",
              "    }\n",
              "\n",
              "    .dataframe tbody tr th {\n",
              "        vertical-align: top;\n",
              "    }\n",
              "\n",
              "    .dataframe thead th {\n",
              "        text-align: right;\n",
              "    }\n",
              "</style>\n",
              "<table border=\"1\" class=\"dataframe\">\n",
              "  <thead>\n",
              "    <tr style=\"text-align: right;\">\n",
              "      <th></th>\n",
              "      <th>PredictedLabels</th>\n",
              "      <th>ActualLabels</th>\n",
              "    </tr>\n",
              "  </thead>\n",
              "  <tbody>\n",
              "    <tr>\n",
              "      <th>0</th>\n",
              "      <td>happy</td>\n",
              "      <td>happy</td>\n",
              "    </tr>\n",
              "    <tr>\n",
              "      <th>1</th>\n",
              "      <td>sad</td>\n",
              "      <td>happy</td>\n",
              "    </tr>\n",
              "    <tr>\n",
              "      <th>2</th>\n",
              "      <td>sad</td>\n",
              "      <td>sad</td>\n",
              "    </tr>\n",
              "    <tr>\n",
              "      <th>3</th>\n",
              "      <td>angry</td>\n",
              "      <td>angry</td>\n",
              "    </tr>\n",
              "    <tr>\n",
              "      <th>4</th>\n",
              "      <td>surprise</td>\n",
              "      <td>surprise</td>\n",
              "    </tr>\n",
              "    <tr>\n",
              "      <th>...</th>\n",
              "      <td>...</td>\n",
              "      <td>...</td>\n",
              "    </tr>\n",
              "    <tr>\n",
              "      <th>9049</th>\n",
              "      <td>neutral</td>\n",
              "      <td>neutral</td>\n",
              "    </tr>\n",
              "    <tr>\n",
              "      <th>9050</th>\n",
              "      <td>surprise</td>\n",
              "      <td>surprise</td>\n",
              "    </tr>\n",
              "    <tr>\n",
              "      <th>9051</th>\n",
              "      <td>neutral</td>\n",
              "      <td>neutral</td>\n",
              "    </tr>\n",
              "    <tr>\n",
              "      <th>9052</th>\n",
              "      <td>happy</td>\n",
              "      <td>happy</td>\n",
              "    </tr>\n",
              "    <tr>\n",
              "      <th>9053</th>\n",
              "      <td>happy</td>\n",
              "      <td>happy</td>\n",
              "    </tr>\n",
              "  </tbody>\n",
              "</table>\n",
              "<p>9054 rows × 2 columns</p>\n",
              "</div>\n",
              "      <button class=\"colab-df-convert\" onclick=\"convertToInteractive('df-96ab20d9-46ed-437e-b3cd-87361f197ae8')\"\n",
              "              title=\"Convert this dataframe to an interactive table.\"\n",
              "              style=\"display:none;\">\n",
              "        \n",
              "  <svg xmlns=\"http://www.w3.org/2000/svg\" height=\"24px\"viewBox=\"0 0 24 24\"\n",
              "       width=\"24px\">\n",
              "    <path d=\"M0 0h24v24H0V0z\" fill=\"none\"/>\n",
              "    <path d=\"M18.56 5.44l.94 2.06.94-2.06 2.06-.94-2.06-.94-.94-2.06-.94 2.06-2.06.94zm-11 1L8.5 8.5l.94-2.06 2.06-.94-2.06-.94L8.5 2.5l-.94 2.06-2.06.94zm10 10l.94 2.06.94-2.06 2.06-.94-2.06-.94-.94-2.06-.94 2.06-2.06.94z\"/><path d=\"M17.41 7.96l-1.37-1.37c-.4-.4-.92-.59-1.43-.59-.52 0-1.04.2-1.43.59L10.3 9.45l-7.72 7.72c-.78.78-.78 2.05 0 2.83L4 21.41c.39.39.9.59 1.41.59.51 0 1.02-.2 1.41-.59l7.78-7.78 2.81-2.81c.8-.78.8-2.07 0-2.86zM5.41 20L4 18.59l7.72-7.72 1.47 1.35L5.41 20z\"/>\n",
              "  </svg>\n",
              "      </button>\n",
              "      \n",
              "  <style>\n",
              "    .colab-df-container {\n",
              "      display:flex;\n",
              "      flex-wrap:wrap;\n",
              "      gap: 12px;\n",
              "    }\n",
              "\n",
              "    .colab-df-convert {\n",
              "      background-color: #E8F0FE;\n",
              "      border: none;\n",
              "      border-radius: 50%;\n",
              "      cursor: pointer;\n",
              "      display: none;\n",
              "      fill: #1967D2;\n",
              "      height: 32px;\n",
              "      padding: 0 0 0 0;\n",
              "      width: 32px;\n",
              "    }\n",
              "\n",
              "    .colab-df-convert:hover {\n",
              "      background-color: #E2EBFA;\n",
              "      box-shadow: 0px 1px 2px rgba(60, 64, 67, 0.3), 0px 1px 3px 1px rgba(60, 64, 67, 0.15);\n",
              "      fill: #174EA6;\n",
              "    }\n",
              "\n",
              "    [theme=dark] .colab-df-convert {\n",
              "      background-color: #3B4455;\n",
              "      fill: #D2E3FC;\n",
              "    }\n",
              "\n",
              "    [theme=dark] .colab-df-convert:hover {\n",
              "      background-color: #434B5C;\n",
              "      box-shadow: 0px 1px 3px 1px rgba(0, 0, 0, 0.15);\n",
              "      filter: drop-shadow(0px 1px 2px rgba(0, 0, 0, 0.3));\n",
              "      fill: #FFFFFF;\n",
              "    }\n",
              "  </style>\n",
              "\n",
              "      <script>\n",
              "        const buttonEl =\n",
              "          document.querySelector('#df-96ab20d9-46ed-437e-b3cd-87361f197ae8 button.colab-df-convert');\n",
              "        buttonEl.style.display =\n",
              "          google.colab.kernel.accessAllowed ? 'block' : 'none';\n",
              "\n",
              "        async function convertToInteractive(key) {\n",
              "          const element = document.querySelector('#df-96ab20d9-46ed-437e-b3cd-87361f197ae8');\n",
              "          const dataTable =\n",
              "            await google.colab.kernel.invokeFunction('convertToInteractive',\n",
              "                                                     [key], {});\n",
              "          if (!dataTable) return;\n",
              "\n",
              "          const docLinkHtml = 'Like what you see? Visit the ' +\n",
              "            '<a target=\"_blank\" href=https://colab.research.google.com/notebooks/data_table.ipynb>data table notebook</a>'\n",
              "            + ' to learn more about interactive tables.';\n",
              "          element.innerHTML = '';\n",
              "          dataTable['output_type'] = 'display_data';\n",
              "          await google.colab.output.renderOutput(dataTable, element);\n",
              "          const docLink = document.createElement('div');\n",
              "          docLink.innerHTML = docLinkHtml;\n",
              "          element.appendChild(docLink);\n",
              "        }\n",
              "      </script>\n",
              "    </div>\n",
              "  </div>\n",
              "  "
            ]
          },
          "metadata": {},
          "execution_count": 41
        }
      ],
      "source": [
        "final_df = pd.DataFrame(columns=['PredictedLabels', 'ActualLabels'])\n",
        "final_df['PredictedLabels'] = y_pred.flatten()\n",
        "final_df['ActualLabels'] = y_tmp.flatten()\n",
        "\n",
        "final_df"
      ]
    },
    {
      "cell_type": "code",
      "source": [
        "modidf = final_df\n",
        "classes = modidf.ActualLabels.unique()\n",
        "classes"
      ],
      "metadata": {
        "colab": {
          "base_uri": "https://localhost:8080/"
        },
        "id": "d8Mvgw_6xHs-",
        "outputId": "b4ef8962-9eeb-4255-c205-183cd26e0d8b"
      },
      "id": "d8Mvgw_6xHs-",
      "execution_count": null,
      "outputs": [
        {
          "output_type": "execute_result",
          "data": {
            "text/plain": [
              "array(['happy', 'sad', 'angry', 'surprise', 'neutral'], dtype=object)"
            ]
          },
          "metadata": {},
          "execution_count": 44
        }
      ]
    },
    {
      "cell_type": "code",
      "source": [
        "modidf.PredictedLabels.unique()"
      ],
      "metadata": {
        "colab": {
          "base_uri": "https://localhost:8080/"
        },
        "id": "QQFbBfjZxURU",
        "outputId": "8ea847a0-026e-407e-8bd7-9cbb432dd3f8"
      },
      "id": "QQFbBfjZxURU",
      "execution_count": null,
      "outputs": [
        {
          "output_type": "execute_result",
          "data": {
            "text/plain": [
              "array(['happy', 'sad', 'angry', 'surprise', 'neutral'], dtype=object)"
            ]
          },
          "metadata": {},
          "execution_count": 45
        }
      ]
    },
    {
      "cell_type": "code",
      "source": [
        "modidf = final_df\n",
        "\n",
        "\n",
        "classes = modidf.ActualLabels.unique()\n",
        "\n",
        "\n",
        "# Confusion matrix\n",
        "c = confusion_matrix(modidf.ActualLabels, modidf.PredictedLabels)\n",
        "print(\"Accuracy of our model on test data based on emotions: \" ,round(accuracy_score(modidf.ActualLabels, modidf.PredictedLabels),2)*100,\"%\")\n",
        "\n",
        "#cm = confusion_matrix(y_tmp, y_pred)\n",
        "plt.figure(figsize = (8, 5))\n",
        "c = pd.DataFrame(c , index = [i for i in modidf['ActualLabels'].unique()] , columns = [i for i in modidf['PredictedLabels'].unique()])\n",
        "sns.heatmap(c, linecolor='Black', cmap='hot', linewidth=1, annot=True, fmt='')\n",
        "plt.title('Confusion Matrix', size=20)\n",
        "plt.xlabel('Predicted Labels', size=14)\n",
        "plt.ylabel('Actual Labels', size=14)\n",
        "plt.show()"
      ],
      "metadata": {
        "colab": {
          "base_uri": "https://localhost:8080/",
          "height": 522
        },
        "id": "jZlzLRx-mToF",
        "outputId": "1c4aa90c-ab72-4c95-e06f-e4c56b68c207"
      },
      "id": "jZlzLRx-mToF",
      "execution_count": null,
      "outputs": [
        {
          "output_type": "stream",
          "name": "stdout",
          "text": [
            "Accuracy of our model on test data based on emotions:  90.0 %\n"
          ]
        },
        {
          "output_type": "display_data",
          "data": {
            "text/plain": [
              "<Figure size 800x500 with 2 Axes>"
            ],
            "image/png": "[encoded data removed]"
          },
          "metadata": {}
        }
      ]
    },
    {
      "cell_type": "code",
      "execution_count": null,
      "id": "96956093",
      "metadata": {
        "colab": {
          "base_uri": "https://localhost:8080/"
        },
        "id": "96956093",
        "outputId": "b5b7b8a7-7ad2-44fa-e463-ef5c03294479"
      },
      "outputs": [
        {
          "output_type": "stream",
          "name": "stdout",
          "text": [
            "['happy']\n"
          ]
        }
      ],
      "source": [
        "print(y_pred[0])"
      ]
    },
    {
      "cell_type": "code",
      "execution_count": null,
      "id": "3d6703e2",
      "metadata": {
        "colab": {
          "base_uri": "https://localhost:8080/"
        },
        "id": "3d6703e2",
        "outputId": "95632498-c3fc-4214-f0e4-b751c1e2c651"
      },
      "outputs": [
        {
          "output_type": "execute_result",
          "data": {
            "text/plain": [
              "array(['neutral'], dtype=object)"
            ]
          },
          "metadata": {},
          "execution_count": 50
        }
      ],
      "source": [
        "y_pred[1]"
      ]
    },
    {
      "cell_type": "code",
      "execution_count": null,
      "id": "433bd323",
      "metadata": {
        "colab": {
          "base_uri": "https://localhost:8080/"
        },
        "id": "433bd323",
        "outputId": "5923034a-f478-4444-d1a7-d0d37d6efb37"
      },
      "outputs": [
        {
          "output_type": "stream",
          "name": "stdout",
          "text": [
            "Save model and weights at /content/saved_models/Emotion_Model_conv1d.h5 \n"
          ]
        }
      ],
      "source": [
        "model_name = 'Emotion_Model_conv1d.h5'\n",
        "save_dir = os.path.join(os.getcwd(), 'saved_models')\n",
        "\n",
        "if not os.path.isdir(save_dir):\n",
        "    os.makedirs(save_dir)\n",
        "model_path = os.path.join(save_dir, model_name)\n",
        "model.save(model_path)\n",
        "print('Save model and weights at %s ' % model_path)\n",
        "\n",
        "# Save the model to disk\n",
        "model_json = model.to_json()\n",
        "with open(\"Emotion_Model_conv1d_gender_93.json\", \"w\") as json_file:\n",
        "    json_file.write(model_json)"
      ]
    },
    {
      "cell_type": "code",
      "source": [
        "model.save('model.h5')"
      ],
      "metadata": {
        "id": "lQS4sTfh-W5b"
      },
      "id": "lQS4sTfh-W5b",
      "execution_count": null,
      "outputs": []
    },
    {
      "cell_type": "code",
      "source": [
        "from keras.models import Sequential, model_from_json"
      ],
      "metadata": {
        "id": "05GCk-gC_hEI"
      },
      "id": "05GCk-gC_hEI",
      "execution_count": null,
      "outputs": []
    },
    {
      "cell_type": "code",
      "source": [
        "json_file = open('/content/drive/MyDrive/Emotion_Model_conv1d_gender_93.json', 'r')\n",
        "loaded_model_json = json_file.read()\n",
        "json_file.close()\n",
        "model = model_from_json(loaded_model_json)\n",
        "\n",
        "# load weights into new model\n",
        "model.load_weights(\"/content/drive/MyDrive/Emotion_Model_conv1d.h5\")\n",
        "print(\"Loaded model from disk\")\n",
        "\n",
        "# Keras optimiser\n",
        "model.compile(optimizer = 'RMSprop' , loss = 'categorical_crossentropy' , metrics = ['accuracy'])\n",
        "score = model.evaluate(x_test, y_test, verbose=0)\n",
        "print(\"%s: %.2f%%\" % (model.metrics_names[1], score[1]*100))"
      ],
      "metadata": {
        "colab": {
          "base_uri": "https://localhost:8080/"
        },
        "id": "OdINsmHp_NYT",
        "outputId": "4f2b4a88-455a-4bb3-c5ff-34474b166da7"
      },
      "id": "OdINsmHp_NYT",
      "execution_count": null,
      "outputs": [
        {
          "output_type": "stream",
          "name": "stdout",
          "text": [
            "Loaded model from disk\n",
            "accuracy: 90.27%\n"
          ]
        }
      ]
    },
    {
      "cell_type": "code",
      "execution_count": null,
      "id": "889397d5-5086-4010-a94e-564102804e95",
      "metadata": {
        "id": "889397d5-5086-4010-a94e-564102804e95"
      },
      "outputs": [],
      "source": [
        "def noise(data):\n",
        "    data = np.array(data, dtype=float)  # Convert data to a numeric array\n",
        "    noise_amp = 0.04 * np.random.uniform() * np.amax(data)\n",
        "    data = data + noise_amp * np.random.normal(size=data.shape[0])\n",
        "    return data\n",
        "\n",
        "def stretch(data, rate=0.70):\n",
        "    return librosa.effects.time_stretch(data,rate=rate)\n",
        "\n",
        "def shift(data):\n",
        "    shift_range = int(np.random.uniform(low=-5, high = 5)*1000)\n",
        "    return np.roll(data, shift_range)\n",
        "\n",
        "def pitch(data, sampling_rate, pitch_factor=0.7):\n",
        "    return librosa.effects.pitch_shift(data, sr=sampling_rate, n_steps=pitch_factor)\n",
        "\n",
        "def higher_speed(data, speed_factor = 1.25):\n",
        "    return librosa.effects.time_stretch(data,rate=speed_factor)\n",
        "\n",
        "def lower_speed(data, speed_factor = 0.75):\n",
        "    return librosa.effects.time_stretch(data,rate=speed_factor)"
      ]
    },
    {
      "cell_type": "code",
      "execution_count": null,
      "id": "d348b2f4-2a1b-46c2-b21e-742fc03ebbef",
      "metadata": {
        "id": "d348b2f4-2a1b-46c2-b21e-742fc03ebbef"
      },
      "outputs": [],
      "source": [
        "#sample_rate = 22050\n",
        "\n",
        "def extract_features(data):\n",
        "\n",
        "    result = np.array([])\n",
        "\n",
        "    mfccs = librosa.feature.mfcc(y=data, sr=22050, n_mfcc=58)\n",
        "    mfccs_processed = np.mean(mfccs.T,axis=0)\n",
        "    result = np.array(mfccs_processed)\n",
        "\n",
        "    return result\n",
        "\n",
        "def get_features(path):\n",
        "    # duration and offset are used to take care of the no audio in start and the ending of each audio files as seen above.\n",
        "    data, sample_rate = librosa.load(path, duration=3, offset=0.5)\n",
        "\n",
        "    #without augmentation\n",
        "    res1 = extract_features(data)\n",
        "    result = np.array(res1)\n",
        "\n",
        "    #noised\n",
        "    noise_data = noise(data)\n",
        "    res2 = extract_features(noise_data)\n",
        "    result = np.vstack((result, res2)) # stacking vertically\n",
        "\n",
        "    #stretched\n",
        "    stretch_data = stretch(data)\n",
        "    res3 = extract_features(stretch_data)\n",
        "    result = np.vstack((result, res3))\n",
        "\n",
        "    #shifted\n",
        "    shift_data = shift(data)\n",
        "    res4 = extract_features(shift_data)\n",
        "    result = np.vstack((result, res4))\n",
        "\n",
        "    #pitched\n",
        "    pitch_data = pitch(data, sample_rate)\n",
        "    res5 = extract_features(pitch_data)\n",
        "    result = np.vstack((result, res5))\n",
        "\n",
        "    #speed up\n",
        "    higher_speed_data = higher_speed(data)\n",
        "    res6 = extract_features(higher_speed_data)\n",
        "    result = np.vstack((result, res6))\n",
        "\n",
        "    #speed down\n",
        "    lower_speed_data = higher_speed(data)\n",
        "    res7 = extract_features(lower_speed_data)\n",
        "    result = np.vstack((result, res7))\n",
        "\n",
        "    return result"
      ]
    },
    {
      "cell_type": "code",
      "execution_count": null,
      "id": "286fa33f",
      "metadata": {
        "id": "286fa33f"
      },
      "outputs": [],
      "source": [
        "sound_file_path = '/content/drive/MyDrive/M_03_ILIAS_S_7_SAD_3.wav'\n",
        "features_test = sound_file_path"
      ]
    },
    {
      "cell_type": "code",
      "execution_count": null,
      "id": "5f147c83",
      "metadata": {
        "id": "5f147c83"
      },
      "outputs": [],
      "source": [
        "x_test2=get_features(features_test)"
      ]
    },
    {
      "cell_type": "code",
      "execution_count": null,
      "id": "1444fd5e",
      "metadata": {
        "colab": {
          "base_uri": "https://localhost:8080/"
        },
        "id": "1444fd5e",
        "outputId": "52b767a7-2414-4f2f-b4fd-a504768489c7"
      },
      "outputs": [
        {
          "output_type": "execute_result",
          "data": {
            "text/plain": [
              "(7, 58)"
            ]
          },
          "metadata": {},
          "execution_count": 62
        }
      ],
      "source": [
        "x_test2.shape"
      ]
    },
    {
      "cell_type": "code",
      "execution_count": null,
      "id": "52a38b0a",
      "metadata": {
        "id": "52a38b0a"
      },
      "outputs": [],
      "source": [
        "x_test2 = np.expand_dims(x_test2, axis=2)"
      ]
    },
    {
      "cell_type": "code",
      "execution_count": null,
      "id": "1ff2280a",
      "metadata": {
        "colab": {
          "base_uri": "https://localhost:8080/"
        },
        "id": "1ff2280a",
        "outputId": "4713fa31-4cde-444b-fc32-f410631a72e3"
      },
      "outputs": [
        {
          "output_type": "execute_result",
          "data": {
            "text/plain": [
              "(7, 58, 1)"
            ]
          },
          "metadata": {},
          "execution_count": 64
        }
      ],
      "source": [
        "x_test2.shape"
      ]
    },
    {
      "cell_type": "code",
      "execution_count": null,
      "id": "08ba8fe6-a2d8-4b1d-a17e-b19a880f05f9",
      "metadata": {
        "id": "08ba8fe6-a2d8-4b1d-a17e-b19a880f05f9"
      },
      "outputs": [],
      "source": [
        "def predict(path):\n",
        "    classes = ['Angry', 'Happy', 'Neutral', 'Sad','Surprise']  # Replace with your own class labels\n",
        "    pred=(model.predict(path))\n",
        "    y_pred = encoder.inverse_transform(pred)\n",
        "    print(y_pred)\n"
      ]
    },
    {
      "cell_type": "code",
      "execution_count": null,
      "id": "eee1aebb",
      "metadata": {
        "colab": {
          "base_uri": "https://localhost:8080/"
        },
        "id": "eee1aebb",
        "outputId": "926d8aa1-1003-4450-8a1f-aa535bd35c87"
      },
      "outputs": [
        {
          "output_type": "stream",
          "name": "stdout",
          "text": [
            "1/1 [==============================] - 0s 381ms/step\n",
            "[['sad']\n",
            " ['sad']\n",
            " ['sad']\n",
            " ['sad']\n",
            " ['sad']\n",
            " ['sad']\n",
            " ['sad']]\n"
          ]
        }
      ],
      "source": [
        "# Each audio data extraction has its own ndarray.\n",
        "predict(x_test2)"
      ]
    },
    {
      "cell_type": "markdown",
      "source": [
        "#Model-2 (RNN-LSTM)"
      ],
      "metadata": {
        "id": "jh9BxTlLah_p"
      },
      "id": "jh9BxTlLah_p"
    },
    {
      "cell_type": "code",
      "source": [
        "import tensorflow as tf\n",
        "from tensorflow.keras.models import Sequential\n",
        "from tensorflow.keras.layers import LSTM, Dense, Dropout"
      ],
      "metadata": {
        "id": "lfaQg3Uian4f"
      },
      "id": "lfaQg3Uian4f",
      "execution_count": null,
      "outputs": []
    },
    {
      "cell_type": "code",
      "source": [
        "timesteps = x_train.shape[1]  # Number of time steps in each sequence\n",
        "input_dim = x_train.shape[2]  # Number of features in each time step\n",
        "output_dim = y_train.shape[1]"
      ],
      "metadata": {
        "id": "32p_aZlj1iCU"
      },
      "id": "32p_aZlj1iCU",
      "execution_count": null,
      "outputs": []
    },
    {
      "cell_type": "code",
      "source": [
        "model = Sequential()\n",
        "\n",
        "# Add the first LSTM layer with input shape (timesteps, input_dim)\n",
        "model.add(LSTM(units=256, return_sequences=True, input_shape=(timesteps, input_dim)))\n",
        "model.add(Dropout(0.2))\n",
        "\n",
        "# Add additional LSTM layers\n",
        "model.add(LSTM(units=256, return_sequences=True))\n",
        "model.add(Dropout(0.2))\n",
        "\n",
        "model.add(LSTM(units=256, return_sequences=True))\n",
        "model.add(Dropout(0.2))\n",
        "\n",
        "model.add(LSTM(units=256, return_sequences=True))\n",
        "model.add(Dropout(0.2))\n",
        "\n",
        "model.add(LSTM(units=256, return_sequences=True))\n",
        "model.add(Dropout(0.2))\n",
        "\n",
        "model.add(LSTM(units=256, return_sequences=True))\n",
        "model.add(Dropout(0.2))\n",
        "\n",
        "model.add(LSTM(units=256))\n",
        "model.add(Dropout(0.2))\n",
        "\n",
        "# Add a dense layer for output prediction\n",
        "model.add(Dense(units=output_dim, activation='softmax'))\n",
        "model.compile(optimizer='adam', loss='categorical_crossentropy', metrics=['accuracy'])\n",
        "\n",
        "model.summary()"
      ],
      "metadata": {
        "colab": {
          "base_uri": "https://localhost:8080/"
        },
        "id": "o-gzUS72arDB",
        "outputId": "586c0713-35eb-42cd-d6b1-f44ae5670c6f"
      },
      "id": "o-gzUS72arDB",
      "execution_count": null,
      "outputs": [
        {
          "output_type": "stream",
          "name": "stdout",
          "text": [
            "Model: \"sequential_2\"\n",
            "_________________________________________________________________\n",
            " Layer (type)                Output Shape              Param #   \n",
            "=================================================================\n",
            " lstm_8 (LSTM)               (None, 58, 256)           264192    \n",
            "                                                                 \n",
            " dropout_8 (Dropout)         (None, 58, 256)           0         \n",
            "                                                                 \n",
            " lstm_9 (LSTM)               (None, 58, 256)           525312    \n",
            "                                                                 \n",
            " dropout_9 (Dropout)         (None, 58, 256)           0         \n",
            "                                                                 \n",
            " lstm_10 (LSTM)              (None, 58, 256)           525312    \n",
            "                                                                 \n",
            " dropout_10 (Dropout)        (None, 58, 256)           0         \n",
            "                                                                 \n",
            " lstm_11 (LSTM)              (None, 58, 256)           525312    \n",
            "                                                                 \n",
            " dropout_11 (Dropout)        (None, 58, 256)           0         \n",
            "                                                                 \n",
            " lstm_12 (LSTM)              (None, 58, 256)           525312    \n",
            "                                                                 \n",
            " dropout_12 (Dropout)        (None, 58, 256)           0         \n",
            "                                                                 \n",
            " lstm_13 (LSTM)              (None, 58, 256)           525312    \n",
            "                                                                 \n",
            " dropout_13 (Dropout)        (None, 58, 256)           0         \n",
            "                                                                 \n",
            " lstm_14 (LSTM)              (None, 256)               525312    \n",
            "                                                                 \n",
            " dropout_14 (Dropout)        (None, 256)               0         \n",
            "                                                                 \n",
            " dense_3 (Dense)             (None, 5)                 1285      \n",
            "                                                                 \n",
            "=================================================================\n",
            "Total params: 3,417,349\n",
            "Trainable params: 3,417,349\n",
            "Non-trainable params: 0\n",
            "_________________________________________________________________\n"
          ]
        }
      ]
    },
    {
      "cell_type": "code",
      "source": [
        "rlrp = ReduceLROnPlateau(monitor='val_accuracy',\n",
        "                                            patience=3,\n",
        "                                            verbose=1,\n",
        "                                            factor=0.5,\n",
        "                                            min_lr=0.00001)\n",
        "earlystopping = EarlyStopping(monitor =\"val_accuracy\",\n",
        "                              mode = 'auto', patience = 5,\n",
        "                              restore_best_weights = True)\n",
        "\n",
        "history=model.fit(x_train, y_train, batch_size=64, epochs=200, validation_data=(x_test, y_test), callbacks=[rlrp,earlystopping])"
      ],
      "metadata": {
        "colab": {
          "base_uri": "https://localhost:8080/"
        },
        "id": "FS1GmCj7ax0s",
        "outputId": "6cf33f0a-3c91-4085-bc3c-20845d1b17bf"
      },
      "id": "FS1GmCj7ax0s",
      "execution_count": null,
      "outputs": [
        {
          "output_type": "stream",
          "name": "stdout",
          "text": [
            "Epoch 1/200\n",
            "566/566 [==============================] - 26s 45ms/step - loss: 1.0528 - accuracy: 0.5511 - val_loss: 1.1676 - val_accuracy: 0.5125 - lr: 1.2500e-04\n",
            "Epoch 2/200\n",
            "566/566 [==============================] - 26s 45ms/step - loss: 1.0464 - accuracy: 0.5537 - val_loss: 1.1513 - val_accuracy: 0.5136 - lr: 1.2500e-04\n",
            "Epoch 3/200\n",
            "566/566 [==============================] - 26s 46ms/step - loss: 1.0343 - accuracy: 0.5592 - val_loss: 1.1532 - val_accuracy: 0.5178 - lr: 1.2500e-04\n",
            "Epoch 4/200\n",
            "566/566 [==============================] - 26s 45ms/step - loss: 1.0219 - accuracy: 0.5654 - val_loss: 1.1422 - val_accuracy: 0.5251 - lr: 1.2500e-04\n",
            "Epoch 5/200\n",
            "566/566 [==============================] - 25s 45ms/step - loss: 1.0077 - accuracy: 0.5732 - val_loss: 1.1387 - val_accuracy: 0.5276 - lr: 1.2500e-04\n",
            "Epoch 6/200\n",
            "566/566 [==============================] - 25s 45ms/step - loss: 0.9999 - accuracy: 0.5767 - val_loss: 1.1408 - val_accuracy: 0.5284 - lr: 1.2500e-04\n",
            "Epoch 7/200\n",
            "566/566 [==============================] - 25s 45ms/step - loss: 0.9868 - accuracy: 0.5804 - val_loss: 1.1122 - val_accuracy: 0.5466 - lr: 1.2500e-04\n",
            "Epoch 8/200\n",
            "566/566 [==============================] - 26s 45ms/step - loss: 0.9774 - accuracy: 0.5879 - val_loss: 1.1199 - val_accuracy: 0.5409 - lr: 1.2500e-04\n",
            "Epoch 9/200\n",
            "566/566 [==============================] - 25s 45ms/step - loss: 0.9571 - accuracy: 0.6000 - val_loss: 1.1369 - val_accuracy: 0.5421 - lr: 1.2500e-04\n",
            "Epoch 10/200\n",
            "566/566 [==============================] - 25s 45ms/step - loss: 0.9495 - accuracy: 0.6017 - val_loss: 1.1155 - val_accuracy: 0.5475 - lr: 1.2500e-04\n",
            "Epoch 11/200\n",
            "566/566 [==============================] - 26s 45ms/step - loss: 0.9380 - accuracy: 0.6094 - val_loss: 1.1058 - val_accuracy: 0.5570 - lr: 1.2500e-04\n",
            "Epoch 12/200\n",
            "566/566 [==============================] - 25s 45ms/step - loss: 0.9232 - accuracy: 0.6152 - val_loss: 1.1177 - val_accuracy: 0.5490 - lr: 1.2500e-04\n",
            "Epoch 13/200\n",
            "566/566 [==============================] - 25s 45ms/step - loss: 0.9228 - accuracy: 0.6170 - val_loss: 1.0760 - val_accuracy: 0.5705 - lr: 1.2500e-04\n",
            "Epoch 14/200\n",
            "566/566 [==============================] - 26s 45ms/step - loss: 0.9009 - accuracy: 0.6280 - val_loss: 1.0548 - val_accuracy: 0.5826 - lr: 1.2500e-04\n",
            "Epoch 15/200\n",
            "566/566 [==============================] - 25s 45ms/step - loss: 0.8898 - accuracy: 0.6307 - val_loss: 1.0815 - val_accuracy: 0.5753 - lr: 1.2500e-04\n",
            "Epoch 16/200\n",
            "566/566 [==============================] - 26s 45ms/step - loss: 0.8748 - accuracy: 0.6387 - val_loss: 1.0526 - val_accuracy: 0.5844 - lr: 1.2500e-04\n",
            "Epoch 17/200\n",
            "566/566 [==============================] - 25s 45ms/step - loss: 0.8684 - accuracy: 0.6429 - val_loss: 1.0644 - val_accuracy: 0.5836 - lr: 1.2500e-04\n",
            "Epoch 18/200\n",
            "566/566 [==============================] - 26s 45ms/step - loss: 0.8499 - accuracy: 0.6533 - val_loss: 1.0478 - val_accuracy: 0.5908 - lr: 1.2500e-04\n",
            "Epoch 19/200\n",
            "566/566 [==============================] - 25s 45ms/step - loss: 0.8386 - accuracy: 0.6584 - val_loss: 1.0375 - val_accuracy: 0.5950 - lr: 1.2500e-04\n",
            "Epoch 20/200\n",
            "566/566 [==============================] - 26s 45ms/step - loss: 0.8379 - accuracy: 0.6589 - val_loss: 1.0445 - val_accuracy: 0.6022 - lr: 1.2500e-04\n",
            "Epoch 21/200\n",
            "566/566 [==============================] - 25s 45ms/step - loss: 0.8158 - accuracy: 0.6696 - val_loss: 1.0060 - val_accuracy: 0.6093 - lr: 1.2500e-04\n",
            "Epoch 22/200\n",
            "566/566 [==============================] - 25s 45ms/step - loss: 0.8009 - accuracy: 0.6716 - val_loss: 1.0100 - val_accuracy: 0.6100 - lr: 1.2500e-04\n",
            "Epoch 23/200\n",
            "566/566 [==============================] - 26s 45ms/step - loss: 0.7940 - accuracy: 0.6750 - val_loss: 1.0256 - val_accuracy: 0.6106 - lr: 1.2500e-04\n",
            "Epoch 24/200\n",
            "566/566 [==============================] - 26s 45ms/step - loss: 0.7829 - accuracy: 0.6852 - val_loss: 0.9858 - val_accuracy: 0.6271 - lr: 1.2500e-04\n",
            "Epoch 25/200\n",
            "566/566 [==============================] - 26s 45ms/step - loss: 0.7631 - accuracy: 0.6929 - val_loss: 0.9950 - val_accuracy: 0.6275 - lr: 1.2500e-04\n",
            "Epoch 26/200\n",
            "566/566 [==============================] - 26s 45ms/step - loss: 0.7540 - accuracy: 0.6981 - val_loss: 0.9846 - val_accuracy: 0.6320 - lr: 1.2500e-04\n",
            "Epoch 27/200\n",
            "566/566 [==============================] - 26s 45ms/step - loss: 0.7523 - accuracy: 0.6976 - val_loss: 0.9769 - val_accuracy: 0.6326 - lr: 1.2500e-04\n",
            "Epoch 28/200\n",
            "566/566 [==============================] - 26s 45ms/step - loss: 0.7387 - accuracy: 0.7055 - val_loss: 0.9815 - val_accuracy: 0.6396 - lr: 1.2500e-04\n",
            "Epoch 29/200\n",
            "566/566 [==============================] - 26s 45ms/step - loss: 0.7176 - accuracy: 0.7140 - val_loss: 1.0127 - val_accuracy: 0.6361 - lr: 1.2500e-04\n",
            "Epoch 30/200\n",
            "566/566 [==============================] - 26s 45ms/step - loss: 0.7135 - accuracy: 0.7169 - val_loss: 0.9500 - val_accuracy: 0.6525 - lr: 1.2500e-04\n",
            "Epoch 31/200\n",
            "566/566 [==============================] - 26s 45ms/step - loss: 0.6989 - accuracy: 0.7203 - val_loss: 0.9784 - val_accuracy: 0.6456 - lr: 1.2500e-04\n",
            "Epoch 32/200\n",
            "566/566 [==============================] - 26s 45ms/step - loss: 0.6911 - accuracy: 0.7262 - val_loss: 0.9421 - val_accuracy: 0.6571 - lr: 1.2500e-04\n",
            "Epoch 33/200\n",
            "566/566 [==============================] - 25s 45ms/step - loss: 0.6782 - accuracy: 0.7320 - val_loss: 0.9603 - val_accuracy: 0.6568 - lr: 1.2500e-04\n",
            "Epoch 34/200\n",
            "566/566 [==============================] - 26s 45ms/step - loss: 0.6709 - accuracy: 0.7383 - val_loss: 0.9309 - val_accuracy: 0.6625 - lr: 1.2500e-04\n",
            "Epoch 35/200\n",
            "566/566 [==============================] - 26s 45ms/step - loss: 0.6492 - accuracy: 0.7438 - val_loss: 0.9338 - val_accuracy: 0.6696 - lr: 1.2500e-04\n",
            "Epoch 36/200\n",
            "566/566 [==============================] - 25s 45ms/step - loss: 0.6410 - accuracy: 0.7462 - val_loss: 0.9727 - val_accuracy: 0.6509 - lr: 1.2500e-04\n",
            "Epoch 37/200\n",
            "566/566 [==============================] - 26s 45ms/step - loss: 0.6264 - accuracy: 0.7535 - val_loss: 0.9412 - val_accuracy: 0.6695 - lr: 1.2500e-04\n",
            "Epoch 38/200\n",
            "566/566 [==============================] - 26s 45ms/step - loss: 0.6256 - accuracy: 0.7553 - val_loss: 0.9074 - val_accuracy: 0.6817 - lr: 1.2500e-04\n",
            "Epoch 39/200\n",
            "566/566 [==============================] - 25s 45ms/step - loss: 0.6069 - accuracy: 0.7632 - val_loss: 0.8910 - val_accuracy: 0.6873 - lr: 1.2500e-04\n",
            "Epoch 40/200\n",
            "566/566 [==============================] - 26s 45ms/step - loss: 0.5964 - accuracy: 0.7665 - val_loss: 0.9095 - val_accuracy: 0.6800 - lr: 1.2500e-04\n",
            "Epoch 41/200\n",
            "566/566 [==============================] - 26s 45ms/step - loss: 0.5893 - accuracy: 0.7700 - val_loss: 0.8988 - val_accuracy: 0.6934 - lr: 1.2500e-04\n",
            "Epoch 42/200\n",
            "566/566 [==============================] - 26s 45ms/step - loss: 0.5816 - accuracy: 0.7724 - val_loss: 0.8794 - val_accuracy: 0.6974 - lr: 1.2500e-04\n",
            "Epoch 43/200\n",
            "566/566 [==============================] - 26s 45ms/step - loss: 0.5711 - accuracy: 0.7773 - val_loss: 0.8859 - val_accuracy: 0.6983 - lr: 1.2500e-04\n",
            "Epoch 44/200\n",
            "566/566 [==============================] - 26s 45ms/step - loss: 0.5615 - accuracy: 0.7812 - val_loss: 0.8796 - val_accuracy: 0.6995 - lr: 1.2500e-04\n",
            "Epoch 45/200\n",
            "566/566 [==============================] - 26s 46ms/step - loss: 0.5473 - accuracy: 0.7891 - val_loss: 0.8683 - val_accuracy: 0.7075 - lr: 1.2500e-04\n",
            "Epoch 46/200\n",
            "566/566 [==============================] - 25s 45ms/step - loss: 0.5369 - accuracy: 0.7931 - val_loss: 0.8704 - val_accuracy: 0.7052 - lr: 1.2500e-04\n",
            "Epoch 47/200\n",
            "566/566 [==============================] - 25s 45ms/step - loss: 0.5328 - accuracy: 0.7940 - val_loss: 0.8441 - val_accuracy: 0.7152 - lr: 1.2500e-04\n",
            "Epoch 48/200\n",
            "566/566 [==============================] - 25s 45ms/step - loss: 0.5139 - accuracy: 0.8023 - val_loss: 0.8570 - val_accuracy: 0.7137 - lr: 1.2500e-04\n",
            "Epoch 49/200\n",
            "566/566 [==============================] - 26s 45ms/step - loss: 0.5146 - accuracy: 0.8028 - val_loss: 0.8732 - val_accuracy: 0.7180 - lr: 1.2500e-04\n",
            "Epoch 50/200\n",
            "566/566 [==============================] - 26s 45ms/step - loss: 0.5030 - accuracy: 0.8065 - val_loss: 0.8513 - val_accuracy: 0.7189 - lr: 1.2500e-04\n",
            "Epoch 51/200\n",
            "566/566 [==============================] - 26s 45ms/step - loss: 0.4906 - accuracy: 0.8125 - val_loss: 0.8614 - val_accuracy: 0.7170 - lr: 1.2500e-04\n",
            "Epoch 52/200\n",
            "566/566 [==============================] - 26s 45ms/step - loss: 0.4820 - accuracy: 0.8141 - val_loss: 0.8305 - val_accuracy: 0.7283 - lr: 1.2500e-04\n",
            "Epoch 53/200\n",
            "566/566 [==============================] - 25s 45ms/step - loss: 0.4704 - accuracy: 0.8212 - val_loss: 0.8249 - val_accuracy: 0.7327 - lr: 1.2500e-04\n",
            "Epoch 54/200\n",
            "566/566 [==============================] - 26s 45ms/step - loss: 0.4645 - accuracy: 0.8247 - val_loss: 0.8210 - val_accuracy: 0.7317 - lr: 1.2500e-04\n",
            "Epoch 55/200\n",
            "566/566 [==============================] - 26s 45ms/step - loss: 0.4537 - accuracy: 0.8294 - val_loss: 0.8262 - val_accuracy: 0.7359 - lr: 1.2500e-04\n",
            "Epoch 56/200\n",
            "566/566 [==============================] - 26s 45ms/step - loss: 0.4527 - accuracy: 0.8276 - val_loss: 0.8302 - val_accuracy: 0.7361 - lr: 1.2500e-04\n",
            "Epoch 57/200\n",
            "566/566 [==============================] - 25s 45ms/step - loss: 0.4373 - accuracy: 0.8340 - val_loss: 0.8283 - val_accuracy: 0.7414 - lr: 1.2500e-04\n",
            "Epoch 58/200\n",
            "566/566 [==============================] - 25s 45ms/step - loss: 0.4303 - accuracy: 0.8382 - val_loss: 0.8318 - val_accuracy: 0.7402 - lr: 1.2500e-04\n",
            "Epoch 59/200\n",
            "566/566 [==============================] - 26s 45ms/step - loss: 0.4186 - accuracy: 0.8426 - val_loss: 0.8071 - val_accuracy: 0.7506 - lr: 1.2500e-04\n",
            "Epoch 60/200\n",
            "566/566 [==============================] - 25s 45ms/step - loss: 0.4029 - accuracy: 0.8483 - val_loss: 0.8179 - val_accuracy: 0.7510 - lr: 1.2500e-04\n",
            "Epoch 61/200\n",
            "566/566 [==============================] - 25s 45ms/step - loss: 0.4050 - accuracy: 0.8484 - val_loss: 0.7770 - val_accuracy: 0.7622 - lr: 1.2500e-04\n",
            "Epoch 62/200\n",
            "566/566 [==============================] - 26s 45ms/step - loss: 0.3981 - accuracy: 0.8507 - val_loss: 0.8035 - val_accuracy: 0.7490 - lr: 1.2500e-04\n",
            "Epoch 63/200\n",
            "566/566 [==============================] - 25s 45ms/step - loss: 0.3911 - accuracy: 0.8538 - val_loss: 0.8300 - val_accuracy: 0.7577 - lr: 1.2500e-04\n",
            "Epoch 64/200\n",
            "565/566 [============================>.] - ETA: 0s - loss: 0.3757 - accuracy: 0.8588\n",
            "Epoch 64: ReduceLROnPlateau reducing learning rate to 6.25000029685907e-05.\n",
            "566/566 [==============================] - 26s 45ms/step - loss: 0.3758 - accuracy: 0.8588 - val_loss: 0.7957 - val_accuracy: 0.7586 - lr: 1.2500e-04\n",
            "Epoch 65/200\n",
            "566/566 [==============================] - 26s 45ms/step - loss: 0.3108 - accuracy: 0.8850 - val_loss: 0.7797 - val_accuracy: 0.7783 - lr: 6.2500e-05\n",
            "Epoch 66/200\n",
            "566/566 [==============================] - 26s 45ms/step - loss: 0.2973 - accuracy: 0.8896 - val_loss: 0.7803 - val_accuracy: 0.7797 - lr: 6.2500e-05\n",
            "Epoch 67/200\n",
            "566/566 [==============================] - 25s 45ms/step - loss: 0.2879 - accuracy: 0.8934 - val_loss: 0.7616 - val_accuracy: 0.7826 - lr: 6.2500e-05\n",
            "Epoch 68/200\n",
            "566/566 [==============================] - 26s 45ms/step - loss: 0.2796 - accuracy: 0.8960 - val_loss: 0.7665 - val_accuracy: 0.7846 - lr: 6.2500e-05\n",
            "Epoch 69/200\n",
            "566/566 [==============================] - 26s 45ms/step - loss: 0.2754 - accuracy: 0.8981 - val_loss: 0.7543 - val_accuracy: 0.7855 - lr: 6.2500e-05\n",
            "Epoch 70/200\n",
            "566/566 [==============================] - 26s 45ms/step - loss: 0.2727 - accuracy: 0.8982 - val_loss: 0.7676 - val_accuracy: 0.7900 - lr: 6.2500e-05\n",
            "Epoch 71/200\n",
            "566/566 [==============================] - 26s 45ms/step - loss: 0.2730 - accuracy: 0.8987 - val_loss: 0.7769 - val_accuracy: 0.7911 - lr: 6.2500e-05\n",
            "Epoch 72/200\n",
            "566/566 [==============================] - 25s 45ms/step - loss: 0.2608 - accuracy: 0.9037 - val_loss: 0.7686 - val_accuracy: 0.7934 - lr: 6.2500e-05\n",
            "Epoch 73/200\n",
            "566/566 [==============================] - 26s 45ms/step - loss: 0.2612 - accuracy: 0.9033 - val_loss: 0.7772 - val_accuracy: 0.7958 - lr: 6.2500e-05\n",
            "Epoch 74/200\n",
            "566/566 [==============================] - 25s 45ms/step - loss: 0.2540 - accuracy: 0.9048 - val_loss: 0.7688 - val_accuracy: 0.7960 - lr: 6.2500e-05\n",
            "Epoch 75/200\n",
            "566/566 [==============================] - 26s 45ms/step - loss: 0.2554 - accuracy: 0.9066 - val_loss: 0.7779 - val_accuracy: 0.7920 - lr: 6.2500e-05\n",
            "Epoch 76/200\n",
            "566/566 [==============================] - 25s 45ms/step - loss: 0.2459 - accuracy: 0.9100 - val_loss: 0.7781 - val_accuracy: 0.7949 - lr: 6.2500e-05\n",
            "Epoch 77/200\n",
            "565/566 [============================>.] - ETA: 0s - loss: 0.2460 - accuracy: 0.9085\n",
            "Epoch 77: ReduceLROnPlateau reducing learning rate to 3.125000148429535e-05.\n",
            "566/566 [==============================] - 25s 45ms/step - loss: 0.2459 - accuracy: 0.9086 - val_loss: 0.7757 - val_accuracy: 0.7957 - lr: 6.2500e-05\n",
            "Epoch 78/200\n",
            "566/566 [==============================] - 26s 45ms/step - loss: 0.2068 - accuracy: 0.9235 - val_loss: 0.7684 - val_accuracy: 0.8030 - lr: 3.1250e-05\n",
            "Epoch 79/200\n",
            "566/566 [==============================] - 26s 45ms/step - loss: 0.2014 - accuracy: 0.9267 - val_loss: 0.7488 - val_accuracy: 0.8118 - lr: 3.1250e-05\n",
            "Epoch 80/200\n",
            "566/566 [==============================] - 25s 45ms/step - loss: 0.1975 - accuracy: 0.9287 - val_loss: 0.7668 - val_accuracy: 0.8085 - lr: 3.1250e-05\n",
            "Epoch 81/200\n",
            "566/566 [==============================] - 25s 45ms/step - loss: 0.1945 - accuracy: 0.9305 - val_loss: 0.7598 - val_accuracy: 0.8139 - lr: 3.1250e-05\n",
            "Epoch 82/200\n",
            "566/566 [==============================] - 25s 45ms/step - loss: 0.1902 - accuracy: 0.9306 - val_loss: 0.7789 - val_accuracy: 0.8138 - lr: 3.1250e-05\n",
            "Epoch 83/200\n",
            "566/566 [==============================] - 25s 45ms/step - loss: 0.1912 - accuracy: 0.9309 - val_loss: 0.7724 - val_accuracy: 0.8148 - lr: 3.1250e-05\n",
            "Epoch 84/200\n",
            "566/566 [==============================] - 25s 45ms/step - loss: 0.1880 - accuracy: 0.9320 - val_loss: 0.7651 - val_accuracy: 0.8139 - lr: 3.1250e-05\n",
            "Epoch 85/200\n",
            "566/566 [==============================] - 26s 45ms/step - loss: 0.1858 - accuracy: 0.9322 - val_loss: 0.7794 - val_accuracy: 0.8125 - lr: 3.1250e-05\n",
            "Epoch 86/200\n",
            "566/566 [==============================] - 26s 45ms/step - loss: 0.1836 - accuracy: 0.9343 - val_loss: 0.7655 - val_accuracy: 0.8156 - lr: 3.1250e-05\n",
            "Epoch 87/200\n",
            "566/566 [==============================] - 26s 45ms/step - loss: 0.1817 - accuracy: 0.9350 - val_loss: 0.7737 - val_accuracy: 0.8174 - lr: 3.1250e-05\n",
            "Epoch 88/200\n",
            "566/566 [==============================] - 26s 45ms/step - loss: 0.1817 - accuracy: 0.9340 - val_loss: 0.7891 - val_accuracy: 0.8132 - lr: 3.1250e-05\n",
            "Epoch 89/200\n",
            "566/566 [==============================] - 25s 45ms/step - loss: 0.1745 - accuracy: 0.9373 - val_loss: 0.7962 - val_accuracy: 0.8129 - lr: 3.1250e-05\n",
            "Epoch 90/200\n",
            "565/566 [============================>.] - ETA: 0s - loss: 0.1738 - accuracy: 0.9365\n",
            "Epoch 90: ReduceLROnPlateau reducing learning rate to 1.5625000742147677e-05.\n",
            "566/566 [==============================] - 26s 45ms/step - loss: 0.1738 - accuracy: 0.9365 - val_loss: 0.7918 - val_accuracy: 0.8162 - lr: 3.1250e-05\n",
            "Epoch 91/200\n",
            "566/566 [==============================] - 26s 45ms/step - loss: 0.1628 - accuracy: 0.9409 - val_loss: 0.7891 - val_accuracy: 0.8173 - lr: 1.5625e-05\n",
            "Epoch 92/200\n",
            "566/566 [==============================] - 26s 45ms/step - loss: 0.1548 - accuracy: 0.9451 - val_loss: 0.7968 - val_accuracy: 0.8174 - lr: 1.5625e-05\n"
          ]
        }
      ]
    },
    {
      "cell_type": "code",
      "source": [
        "print(\"Accuracy of our model on test data : \" , round(model.evaluate(x_test,y_test)[1]*100,2) , \"%\")\n",
        "\n",
        "epochs = [i for i in range(92)]\n",
        "fig , ax = plt.subplots(1,2)\n",
        "train_acc = history.history['accuracy']\n",
        "train_loss = history.history['loss']\n",
        "test_acc = history.history['val_accuracy']\n",
        "test_loss = history.history['val_loss']\n",
        "\n",
        "fig.set_size_inches(20,6)\n",
        "ax[0].plot(epochs , train_loss , label = 'Training Loss')\n",
        "ax[0].plot(epochs , test_loss , label = 'Testing Loss')\n",
        "ax[0].set_title('Training & Testing Loss')\n",
        "ax[0].legend()\n",
        "ax[0].set_xlabel(\"Epochs\")\n",
        "\n",
        "ax[1].plot(epochs , train_acc , label = 'Training Accuracy')\n",
        "ax[1].plot(epochs , test_acc , label = 'Testing Accuracy')\n",
        "ax[1].set_title('Training & Testing Accuracy')\n",
        "ax[1].legend()\n",
        "ax[1].set_xlabel(\"Epochs\")\n",
        "plt.show()"
      ],
      "metadata": {
        "colab": {
          "base_uri": "https://localhost:8080/"
        },
        "id": "41VWcakAa0vk",
        "outputId": "dbd6625a-956a-469f-aeac-92dd6bf72516"
      },
      "id": "41VWcakAa0vk",
      "execution_count": null,
      "outputs": [
        {
          "output_type": "stream",
          "name": "stdout",
          "text": [
            "283/283 [==============================] - 5s 16ms/step - loss: 0.7737 - accuracy: 0.8174\n",
            "Accuracy of our model on test data :  81.74 %\n"
          ]
        },
        {
          "output_type": "display_data",
          "data": {
            "text/plain": [
              "<Figure size 2000x600 with 2 Axes>"
            ],
            "image/png": "[encoded data removed]"
          },
          "metadata": {}
        }
      ]
    },
    {
      "cell_type": "markdown",
      "source": [
        "#Model-3 (Bi-LSTM)"
      ],
      "metadata": {
        "id": "stnZ4_0Ebhl_"
      },
      "id": "stnZ4_0Ebhl_"
    },
    {
      "cell_type": "code",
      "source": [
        "from keras.models import Sequential\n",
        "from keras.layers import LSTM, Bidirectional, Dense"
      ],
      "metadata": {
        "id": "hzqxfqLybkmh"
      },
      "id": "hzqxfqLybkmh",
      "execution_count": null,
      "outputs": []
    },
    {
      "cell_type": "code",
      "source": [
        "# Define the number of hidden layers and units per layer\n",
        "num_hidden_layers = 7\n",
        "units_per_layer = 256\n",
        "\n",
        "# Create the model\n",
        "model = Sequential()\n",
        "\n",
        "# Add the first Bi-LSTM layer with input_shape\n",
        "model.add(Bidirectional(LSTM(units_per_layer, return_sequences=True), input_shape=(None, input_dim)))\n",
        "\n",
        "# Add the remaining hidden layers\n",
        "for _ in range(num_hidden_layers - 1):\n",
        "    model.add(Bidirectional(LSTM(units_per_layer, return_sequences=True)))\n",
        "\n",
        "# Add the output layer\n",
        "model.add(Dense(output_dim, activation='softmax'))\n",
        "\n",
        "# Compile the model\n",
        "model.compile(loss='categorical_crossentropy', optimizer='adam', metrics=['accuracy'])\n",
        "\n",
        "# Print the model summary\n",
        "model.summary()"
      ],
      "metadata": {
        "id": "To5M9JN_bnm5"
      },
      "id": "To5M9JN_bnm5",
      "execution_count": null,
      "outputs": []
    },
    {
      "cell_type": "code",
      "source": [
        "print(\"Accuracy of our model on test data : \" , round(model.evaluate(x_test,y_test)[1]*100,2) , \"%\")\n",
        "\n",
        "epochs = [i for i in range(48)]\n",
        "fig , ax = plt.subplots(1,2)\n",
        "train_acc = history.history['accuracy']\n",
        "train_loss = history.history['loss']\n",
        "test_acc = history.history['val_accuracy']\n",
        "test_loss = history.history['val_loss']\n",
        "\n",
        "fig.set_size_inches(20,6)\n",
        "ax[0].plot(epochs , train_loss , label = 'Training Loss')\n",
        "ax[0].plot(epochs , test_loss , label = 'Testing Loss')\n",
        "ax[0].set_title('Training & Testing Loss')\n",
        "ax[0].legend()\n",
        "ax[0].set_xlabel(\"Epochs\")\n",
        "\n",
        "ax[1].plot(epochs , train_acc , label = 'Training Accuracy')\n",
        "ax[1].plot(epochs , test_acc , label = 'Testing Accuracy')\n",
        "ax[1].set_title('Training & Testing Accuracy')\n",
        "ax[1].legend()\n",
        "ax[1].set_xlabel(\"Epochs\")\n",
        "plt.show()"
      ],
      "metadata": {
        "id": "j6MsOmKUbqlv"
      },
      "id": "j6MsOmKUbqlv",
      "execution_count": null,
      "outputs": []
    }
  ],
  "metadata": {
    "kernelspec": {
      "display_name": "Python 3",
      "name": "python3"
    },
    "language_info": {
      "name": "python"
    },
    "colab": {
      "provenance": [],
      "gpuType": "T4"
    },
    "accelerator": "GPU"
  },
  "nbformat": 4,
  "nbformat_minor": 5
}